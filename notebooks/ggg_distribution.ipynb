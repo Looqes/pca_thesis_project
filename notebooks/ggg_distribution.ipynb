{
 "cells": [
  {
   "cell_type": "code",
   "execution_count": 26,
   "metadata": {},
   "outputs": [],
   "source": [
    "import numpy as np\n",
    "import SimpleITK as sitk\n",
    "import pandas as pd\n",
    "import matplotlib.pyplot as plt\n",
    "import seaborn as sns\n",
    "\n",
    "from tqdm import tqdm\n",
    "\n",
    "\n",
    "import os\n",
    "import sys\n",
    "\"../scripts\" not in sys.path and sys.path.insert(0, '../scripts')\n",
    "\n",
    "import read_scans_utils\n"
   ]
  },
  {
   "cell_type": "code",
   "execution_count": null,
   "metadata": {},
   "outputs": [],
   "source": []
  },
  {
   "cell_type": "code",
   "execution_count": 19,
   "metadata": {},
   "outputs": [],
   "source": [
    "# dataset = \"Dataset005_pca\"\n",
    "dataset = \"Dataset008_pcaadc\"\n",
    "path_to_am_model_data = f\"../data/nnUNet_raw/{dataset}\"\n",
    "\n",
    "path_to_am_model_delineations = f\"{path_to_am_model_data}/labelsTr\"\n",
    "path_to_am_model_delineations = f\"{path_to_am_model_data}/labelsTr\"\n",
    "path_to_model_training_cases = f\"{path_to_am_model_data}/imagesTr\"\n",
    "path_to_model_test_cases = f\"{path_to_am_model_data}/imagesTs\""
   ]
  },
  {
   "cell_type": "code",
   "execution_count": 21,
   "metadata": {},
   "outputs": [
    {
     "name": "stdout",
     "output_type": "stream",
     "text": [
      "266\n",
      "213.0\n",
      "53.0\n"
     ]
    }
   ],
   "source": [
    "delineation_filenames = os.listdir(path_to_am_model_delineations)\n",
    "\n",
    "training_cases_filenames = os.listdir(path_to_model_training_cases)\n",
    "test_cases_filenames = os.listdir(path_to_model_test_cases)\n",
    "\n",
    "print(len(delineation_filenames))\n",
    "print(len(training_cases_filenames)/2)\n",
    "print(len(test_cases_filenames)/2)"
   ]
  },
  {
   "cell_type": "code",
   "execution_count": 27,
   "metadata": {},
   "outputs": [
    {
     "name": "stderr",
     "output_type": "stream",
     "text": [
      "100%|██████████| 266/266 [00:31<00:00,  8.42it/s]\n"
     ]
    }
   ],
   "source": [
    "gleason_grade_groups = []\n",
    "\n",
    "\n",
    "for delineation_filename in tqdm(delineation_filenames):\n",
    "    ground_truth_delineation = sitk.ReadImage(f\"{path_to_am_model_delineations}/{delineation_filename}\")\n",
    "\n",
    "    ggg, has_cribriform = read_scans_utils.determine_gleason_grade(ground_truth_delineation)\n",
    "    gleason_grade_groups.append(ggg)\n",
    "\n",
    "\n"
   ]
  },
  {
   "cell_type": "code",
   "execution_count": 29,
   "metadata": {},
   "outputs": [],
   "source": [
    "ggg_counts = np.unique(gleason_grade_groups, return_counts = True)"
   ]
  },
  {
   "cell_type": "code",
   "execution_count": 35,
   "metadata": {},
   "outputs": [
    {
     "name": "stdout",
     "output_type": "stream",
     "text": [
      "48 patients have GGg 1 (18.05%)\n",
      "113 patients have GGg 2 (42.48%)\n",
      "66 patients have GGg 3 (24.81%)\n",
      "39 patients have GGg 4 (14.66%)\n"
     ]
    }
   ],
   "source": [
    "counts_linked = zip(ggg_counts[0], ggg_counts[1])\n",
    "total_patients_count = 266\n",
    "\n",
    "for ggg, count in counts_linked:\n",
    "    print(f\"{count} patients have GGg {ggg} ({round((count / total_patients_count) * 100, 0)}%)\")\n"
   ]
  }
 ],
 "metadata": {
  "kernelspec": {
   "display_name": "Python 3",
   "language": "python",
   "name": "python3"
  },
  "language_info": {
   "codemirror_mode": {
    "name": "ipython",
    "version": 3
   },
   "file_extension": ".py",
   "mimetype": "text/x-python",
   "name": "python",
   "nbconvert_exporter": "python",
   "pygments_lexer": "ipython3",
   "version": "3.10.12"
  }
 },
 "nbformat": 4,
 "nbformat_minor": 2
}
