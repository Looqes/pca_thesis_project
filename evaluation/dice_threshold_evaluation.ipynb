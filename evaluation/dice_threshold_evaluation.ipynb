{
 "cells": [
  {
   "cell_type": "code",
   "execution_count": 1,
   "metadata": {},
   "outputs": [],
   "source": [
    "import sys\n",
    "import os\n",
    "import json\n",
    "\n",
    "import numpy as np\n",
    "\n",
    "import matplotlib.pyplot as plt\n",
    "import seaborn as sns\n"
   ]
  },
  {
   "cell_type": "code",
   "execution_count": 6,
   "metadata": {},
   "outputs": [
    {
     "name": "stdout",
     "output_type": "stream",
     "text": [
      "0: all_modalities\n",
      "1: Dataset005_pca\n",
      "2: Dataset006_pca_gg3gg4combined\n",
      "3: Dataset007_pca_cribriform_only\n",
      "4: Dataset008_pcaadc\n",
      "5: Dataset009_pcaperf\n",
      "6: t2_adc\n",
      "7: t2_perfusion\n"
     ]
    }
   ],
   "source": [
    "test_or_val = \"validation\"\n",
    "# test_or_val = \"test\"\n",
    "\n",
    "datafolder = f\"./contours_compare_{test_or_val}\"\n",
    "\n",
    "root, dirs, files = next(os.walk(f\"{datafolder}\"))\n",
    "for i, dir in enumerate(dirs):\n",
    "    print(f\"{i}: {dir}\")\n",
    "\n"
   ]
  },
  {
   "cell_type": "code",
   "execution_count": 7,
   "metadata": {},
   "outputs": [],
   "source": [
    "set_number = 1\n",
    "\n",
    "dataset = dirs[set_number]\n",
    "dataset_path = f\"{datafolder}/{dataset}\""
   ]
  },
  {
   "cell_type": "code",
   "execution_count": 8,
   "metadata": {},
   "outputs": [],
   "source": [
    "try:\n",
    "    with open(f\"{dataset_path}/summary.json\") as f:\n",
    "        output_statistics = json.load(f)\n",
    "except:\n",
    "    print(f\"{dataset} doesn't have a summary json. Aborting...\")"
   ]
  },
  {
   "cell_type": "markdown",
   "metadata": {},
   "source": [
    "### Defining a range of dice thresholds"
   ]
  },
  {
   "cell_type": "markdown",
   "metadata": {},
   "source": [
    "helper functions to calculate metrics of the case of a single dice threshold \\\n",
    "metric used is F1-score \n",
    "\n",
    "$\\frac{2tp}{2tp + fp + fn}$\n"
   ]
  },
  {
   "cell_type": "code",
   "execution_count": null,
   "metadata": {},
   "outputs": [],
   "source": []
  },
  {
   "cell_type": "code",
   "execution_count": 17,
   "metadata": {},
   "outputs": [],
   "source": [
    "def f1_score(dict_with_cm):\n",
    "    TP, FP, TN, FN = dict_with_cm[\"TP\"], dict_with_cm[\"FP\"], dict_with_cm[\"TN\"], dict_with_cm[\"FN\"]\n",
    "\n",
    "    score = 2 * TP / (2 * TP + FP + FN)\n",
    "    return score\n",
    "\n",
    "def sensitivity(dict_with_cm):\n",
    "    TP, FP, TN, FN = dict_with_cm[\"TP\"], dict_with_cm[\"FP\"], dict_with_cm[\"TN\"], dict_with_cm[\"FN\"]\n",
    "\n",
    "    score = TP / (TP + FN)\n",
    "    return score\n",
    "\n",
    "def specificity(dict_with_cm):\n",
    "    TP, FP, TN, FN = dict_with_cm[\"TP\"], dict_with_cm[\"FP\"], dict_with_cm[\"TN\"], dict_with_cm[\"FN\"]\n",
    "\n",
    "    score = TN / (TN + FP)\n",
    "    return score\n",
    "\n"
   ]
  },
  {
   "cell_type": "code",
   "execution_count": 67,
   "metadata": {},
   "outputs": [
    {
     "name": "stdout",
     "output_type": "stream",
     "text": [
      "[0.025 0.05  0.075 0.1   0.125 0.15  0.175 0.2   0.225 0.25  0.275 0.3\n",
      " 0.325 0.35  0.375 0.4   0.425 0.45  0.475 0.5   0.525 0.55  0.575 0.6\n",
      " 0.625 0.65  0.675 0.7   0.725 0.75  0.775 0.8   0.825 0.85  0.875 0.9  ]\n"
     ]
    }
   ],
   "source": [
    "dice_thresholds = np.arange(0.025, 0.91, 0.025)\n",
    "print(dice_thresholds)"
   ]
  },
  {
   "cell_type": "code",
   "execution_count": 68,
   "metadata": {},
   "outputs": [
    {
     "name": "stdout",
     "output_type": "stream",
     "text": [
      "{'TP': 19, 'FP': 9, 'TN': 0, 'FN': 6, 'tp_dice_scores_sum': 5.898946860587767}\n",
      "{'TP': 22, 'FP': 11, 'TN': 3, 'FN': 4, 'tp_dice_scores_sum': 9.747344680893157}\n",
      "{'TP': 2, 'FP': 5, 'TN': 30, 'FN': 5, 'tp_dice_scores_sum': 0.38395437605000093}\n",
      "Average Dice scores:\n",
      "{'1': 0.31047088739935613, '2': 0.4430611218587799, '3': 0.19197718802500047}\n",
      "{'TP': 19, 'FP': 9, 'TN': 0, 'FN': 6, 'tp_dice_scores_sum': 5.898946860587767}\n",
      "{'TP': 22, 'FP': 11, 'TN': 3, 'FN': 4, 'tp_dice_scores_sum': 9.747344680893157}\n",
      "{'TP': 2, 'FP': 5, 'TN': 30, 'FN': 5, 'tp_dice_scores_sum': 0.38395437605000093}\n",
      "Average Dice scores:\n",
      "{'1': 0.31047088739935613, '2': 0.4430611218587799, '3': 0.19197718802500047}\n",
      "{'TP': 19, 'FP': 9, 'TN': 0, 'FN': 6, 'tp_dice_scores_sum': 5.898946860587767}\n",
      "{'TP': 21, 'FP': 11, 'TN': 3, 'FN': 4, 'tp_dice_scores_sum': 9.68471230570405}\n",
      "{'TP': 1, 'FP': 5, 'TN': 30, 'FN': 5, 'tp_dice_scores_sum': 0.314540059347181}\n",
      "Average Dice scores:\n",
      "{'1': 0.31047088739935613, '2': 0.4611767764620976, '3': 0.314540059347181}\n",
      "{'TP': 17, 'FP': 9, 'TN': 0, 'FN': 6, 'tp_dice_scores_sum': 5.729217076981954}\n",
      "{'TP': 19, 'FP': 11, 'TN': 3, 'FN': 4, 'tp_dice_scores_sum': 9.51351355598618}\n",
      "{'TP': 1, 'FP': 5, 'TN': 30, 'FN': 5, 'tp_dice_scores_sum': 0.314540059347181}\n",
      "Average Dice scores:\n",
      "{'1': 0.3370127692342326, '2': 0.5007112397887463, '3': 0.314540059347181}\n",
      "{'TP': 15, 'FP': 9, 'TN': 0, 'FN': 6, 'tp_dice_scores_sum': 5.506447361429625}\n",
      "{'TP': 19, 'FP': 11, 'TN': 3, 'FN': 4, 'tp_dice_scores_sum': 9.51351355598618}\n",
      "{'TP': 1, 'FP': 5, 'TN': 30, 'FN': 5, 'tp_dice_scores_sum': 0.314540059347181}\n",
      "Average Dice scores:\n",
      "{'1': 0.36709649076197504, '2': 0.5007112397887463, '3': 0.314540059347181}\n",
      "{'TP': 15, 'FP': 9, 'TN': 0, 'FN': 6, 'tp_dice_scores_sum': 5.506447361429625}\n",
      "{'TP': 18, 'FP': 11, 'TN': 3, 'FN': 4, 'tp_dice_scores_sum': 9.366484351555162}\n",
      "{'TP': 1, 'FP': 5, 'TN': 30, 'FN': 5, 'tp_dice_scores_sum': 0.314540059347181}\n",
      "Average Dice scores:\n",
      "{'1': 0.36709649076197504, '2': 0.5203602417530645, '3': 0.314540059347181}\n",
      "{'TP': 15, 'FP': 9, 'TN': 0, 'FN': 6, 'tp_dice_scores_sum': 5.506447361429625}\n",
      "{'TP': 17, 'FP': 11, 'TN': 3, 'FN': 4, 'tp_dice_scores_sum': 9.205541245455723}\n",
      "{'TP': 1, 'FP': 5, 'TN': 30, 'FN': 5, 'tp_dice_scores_sum': 0.314540059347181}\n",
      "Average Dice scores:\n",
      "{'1': 0.36709649076197504, '2': 0.5415024262032778, '3': 0.314540059347181}\n",
      "{'TP': 12, 'FP': 9, 'TN': 0, 'FN': 6, 'tp_dice_scores_sum': 4.941169019349635}\n",
      "{'TP': 15, 'FP': 11, 'TN': 3, 'FN': 4, 'tp_dice_scores_sum': 8.836506203308595}\n",
      "{'TP': 1, 'FP': 5, 'TN': 30, 'FN': 5, 'tp_dice_scores_sum': 0.314540059347181}\n",
      "Average Dice scores:\n",
      "{'1': 0.4117640849458029, '2': 0.5891004135539063, '3': 0.314540059347181}\n",
      "{'TP': 10, 'FP': 9, 'TN': 0, 'FN': 6, 'tp_dice_scores_sum': 4.537524052011386}\n",
      "{'TP': 15, 'FP': 11, 'TN': 3, 'FN': 4, 'tp_dice_scores_sum': 8.836506203308595}\n",
      "{'TP': 1, 'FP': 5, 'TN': 30, 'FN': 5, 'tp_dice_scores_sum': 0.314540059347181}\n",
      "Average Dice scores:\n",
      "{'1': 0.4537524052011386, '2': 0.5891004135539063, '3': 0.314540059347181}\n",
      "{'TP': 10, 'FP': 9, 'TN': 0, 'FN': 6, 'tp_dice_scores_sum': 4.537524052011386}\n",
      "{'TP': 15, 'FP': 11, 'TN': 3, 'FN': 4, 'tp_dice_scores_sum': 8.836506203308595}\n",
      "{'TP': 1, 'FP': 5, 'TN': 30, 'FN': 5, 'tp_dice_scores_sum': 0.314540059347181}\n",
      "Average Dice scores:\n",
      "{'1': 0.4537524052011386, '2': 0.5891004135539063, '3': 0.314540059347181}\n",
      "{'TP': 10, 'FP': 9, 'TN': 0, 'FN': 6, 'tp_dice_scores_sum': 4.537524052011386}\n",
      "{'TP': 15, 'FP': 11, 'TN': 3, 'FN': 4, 'tp_dice_scores_sum': 8.836506203308595}\n",
      "{'TP': 1, 'FP': 5, 'TN': 30, 'FN': 5, 'tp_dice_scores_sum': 0.314540059347181}\n",
      "Average Dice scores:\n",
      "{'1': 0.4537524052011386, '2': 0.5891004135539063, '3': 0.314540059347181}\n",
      "{'TP': 9, 'FP': 9, 'TN': 0, 'FN': 6, 'tp_dice_scores_sum': 4.246152571539088}\n",
      "{'TP': 15, 'FP': 11, 'TN': 3, 'FN': 4, 'tp_dice_scores_sum': 8.836506203308595}\n",
      "{'TP': 1, 'FP': 5, 'TN': 30, 'FN': 5, 'tp_dice_scores_sum': 0.314540059347181}\n",
      "Average Dice scores:\n",
      "{'1': 0.4717947301710098, '2': 0.5891004135539063, '3': 0.314540059347181}\n",
      "{'TP': 9, 'FP': 9, 'TN': 0, 'FN': 6, 'tp_dice_scores_sum': 4.246152571539088}\n",
      "{'TP': 15, 'FP': 11, 'TN': 3, 'FN': 4, 'tp_dice_scores_sum': 8.836506203308595}\n",
      "{'TP': 0, 'FP': 5, 'TN': 30, 'FN': 5, 'tp_dice_scores_sum': 0}\n",
      "Average Dice scores:\n",
      "{'1': 0.4717947301710098, '2': 0.5891004135539063, '3': 0}\n",
      "{'TP': 7, 'FP': 9, 'TN': 0, 'FN': 6, 'tp_dice_scores_sum': 3.565295461593991}\n",
      "{'TP': 14, 'FP': 11, 'TN': 3, 'FN': 4, 'tp_dice_scores_sum': 8.487265422397533}\n",
      "{'TP': 0, 'FP': 5, 'TN': 30, 'FN': 5, 'tp_dice_scores_sum': 0}\n",
      "Average Dice scores:\n",
      "{'1': 0.5093279230848559, '2': 0.6062332444569666, '3': 0}\n",
      "{'TP': 7, 'FP': 9, 'TN': 0, 'FN': 6, 'tp_dice_scores_sum': 3.565295461593991}\n",
      "{'TP': 14, 'FP': 11, 'TN': 3, 'FN': 4, 'tp_dice_scores_sum': 8.487265422397533}\n",
      "{'TP': 0, 'FP': 5, 'TN': 30, 'FN': 5, 'tp_dice_scores_sum': 0}\n",
      "Average Dice scores:\n",
      "{'1': 0.5093279230848559, '2': 0.6062332444569666, '3': 0}\n",
      "{'TP': 6, 'FP': 9, 'TN': 0, 'FN': 6, 'tp_dice_scores_sum': 3.1793691284439083}\n",
      "{'TP': 14, 'FP': 11, 'TN': 3, 'FN': 4, 'tp_dice_scores_sum': 8.487265422397533}\n",
      "{'TP': 0, 'FP': 5, 'TN': 30, 'FN': 5, 'tp_dice_scores_sum': 0}\n",
      "Average Dice scores:\n",
      "{'1': 0.5298948547406513, '2': 0.6062332444569666, '3': 0}\n",
      "{'TP': 6, 'FP': 9, 'TN': 0, 'FN': 6, 'tp_dice_scores_sum': 3.1793691284439083}\n",
      "{'TP': 12, 'FP': 11, 'TN': 3, 'FN': 4, 'tp_dice_scores_sum': 7.660542768644133}\n",
      "{'TP': 0, 'FP': 5, 'TN': 30, 'FN': 5, 'tp_dice_scores_sum': 0}\n",
      "Average Dice scores:\n",
      "{'1': 0.5298948547406513, '2': 0.6383785640536778, '3': 0}\n",
      "{'TP': 4, 'FP': 9, 'TN': 0, 'FN': 6, 'tp_dice_scores_sum': 2.3082040817320273}\n",
      "{'TP': 11, 'FP': 11, 'TN': 3, 'FN': 4, 'tp_dice_scores_sum': 7.223280411229684}\n",
      "{'TP': 0, 'FP': 5, 'TN': 30, 'FN': 5, 'tp_dice_scores_sum': 0}\n",
      "Average Dice scores:\n",
      "{'1': 0.5770510204330068, '2': 0.6566618555663349, '3': 0}\n",
      "{'TP': 4, 'FP': 9, 'TN': 0, 'FN': 6, 'tp_dice_scores_sum': 2.3082040817320273}\n",
      "{'TP': 10, 'FP': 11, 'TN': 3, 'FN': 4, 'tp_dice_scores_sum': 6.75456144400029}\n",
      "{'TP': 0, 'FP': 5, 'TN': 30, 'FN': 5, 'tp_dice_scores_sum': 0}\n",
      "Average Dice scores:\n",
      "{'1': 0.5770510204330068, '2': 0.675456144400029, '3': 0}\n",
      "{'TP': 4, 'FP': 9, 'TN': 0, 'FN': 6, 'tp_dice_scores_sum': 2.3082040817320273}\n",
      "{'TP': 8, 'FP': 11, 'TN': 3, 'FN': 4, 'tp_dice_scores_sum': 5.783768918093713}\n",
      "{'TP': 0, 'FP': 5, 'TN': 30, 'FN': 5, 'tp_dice_scores_sum': 0}\n",
      "Average Dice scores:\n",
      "{'1': 0.5770510204330068, '2': 0.7229711147617142, '3': 0}\n",
      "{'TP': 4, 'FP': 9, 'TN': 0, 'FN': 6, 'tp_dice_scores_sum': 2.3082040817320273}\n",
      "{'TP': 8, 'FP': 11, 'TN': 3, 'FN': 4, 'tp_dice_scores_sum': 5.783768918093713}\n",
      "{'TP': 0, 'FP': 5, 'TN': 30, 'FN': 5, 'tp_dice_scores_sum': 0}\n",
      "Average Dice scores:\n",
      "{'1': 0.5770510204330068, '2': 0.7229711147617142, '3': 0}\n",
      "{'TP': 3, 'FP': 9, 'TN': 0, 'FN': 6, 'tp_dice_scores_sum': 1.7641034694533575}\n",
      "{'TP': 8, 'FP': 11, 'TN': 3, 'FN': 4, 'tp_dice_scores_sum': 5.783768918093713}\n",
      "{'TP': 0, 'FP': 5, 'TN': 30, 'FN': 5, 'tp_dice_scores_sum': 0}\n",
      "Average Dice scores:\n",
      "{'1': 0.5880344898177858, '2': 0.7229711147617142, '3': 0}\n",
      "{'TP': 1, 'FP': 9, 'TN': 0, 'FN': 6, 'tp_dice_scores_sum': 0.6413194007302027}\n",
      "{'TP': 8, 'FP': 11, 'TN': 3, 'FN': 4, 'tp_dice_scores_sum': 5.783768918093713}\n",
      "{'TP': 0, 'FP': 5, 'TN': 30, 'FN': 5, 'tp_dice_scores_sum': 0}\n",
      "Average Dice scores:\n",
      "{'1': 0.6413194007302027, '2': 0.7229711147617142, '3': 0}\n",
      "{'TP': 1, 'FP': 9, 'TN': 0, 'FN': 6, 'tp_dice_scores_sum': 0.6413194007302027}\n",
      "{'TP': 6, 'FP': 11, 'TN': 3, 'FN': 4, 'tp_dice_scores_sum': 4.5900737716820466}\n",
      "{'TP': 0, 'FP': 5, 'TN': 30, 'FN': 5, 'tp_dice_scores_sum': 0}\n",
      "Average Dice scores:\n",
      "{'1': 0.6413194007302027, '2': 0.7650122952803411, '3': 0}\n",
      "{'TP': 1, 'FP': 9, 'TN': 0, 'FN': 6, 'tp_dice_scores_sum': 0.6413194007302027}\n",
      "{'TP': 6, 'FP': 11, 'TN': 3, 'FN': 4, 'tp_dice_scores_sum': 4.5900737716820466}\n",
      "{'TP': 0, 'FP': 5, 'TN': 30, 'FN': 5, 'tp_dice_scores_sum': 0}\n",
      "Average Dice scores:\n",
      "{'1': 0.6413194007302027, '2': 0.7650122952803411, '3': 0}\n",
      "{'TP': 0, 'FP': 9, 'TN': 0, 'FN': 6, 'tp_dice_scores_sum': 0}\n",
      "{'TP': 6, 'FP': 11, 'TN': 3, 'FN': 4, 'tp_dice_scores_sum': 4.5900737716820466}\n",
      "{'TP': 0, 'FP': 5, 'TN': 30, 'FN': 5, 'tp_dice_scores_sum': 0}\n",
      "Average Dice scores:\n",
      "{'1': 0, '2': 0.7650122952803411, '3': 0}\n",
      "{'TP': 0, 'FP': 9, 'TN': 0, 'FN': 6, 'tp_dice_scores_sum': 0}\n",
      "{'TP': 5, 'FP': 11, 'TN': 3, 'FN': 4, 'tp_dice_scores_sum': 3.9341385198834855}\n",
      "{'TP': 0, 'FP': 5, 'TN': 30, 'FN': 5, 'tp_dice_scores_sum': 0}\n",
      "Average Dice scores:\n",
      "{'1': 0, '2': 0.7868277039766971, '3': 0}\n",
      "{'TP': 0, 'FP': 9, 'TN': 0, 'FN': 6, 'tp_dice_scores_sum': 0}\n",
      "{'TP': 5, 'FP': 11, 'TN': 3, 'FN': 4, 'tp_dice_scores_sum': 3.9341385198834855}\n",
      "{'TP': 0, 'FP': 5, 'TN': 30, 'FN': 5, 'tp_dice_scores_sum': 0}\n",
      "Average Dice scores:\n",
      "{'1': 0, '2': 0.7868277039766971, '3': 0}\n",
      "{'TP': 0, 'FP': 9, 'TN': 0, 'FN': 6, 'tp_dice_scores_sum': 0}\n",
      "{'TP': 5, 'FP': 11, 'TN': 3, 'FN': 4, 'tp_dice_scores_sum': 3.9341385198834855}\n",
      "{'TP': 0, 'FP': 5, 'TN': 30, 'FN': 5, 'tp_dice_scores_sum': 0}\n",
      "Average Dice scores:\n",
      "{'1': 0, '2': 0.7868277039766971, '3': 0}\n",
      "{'TP': 0, 'FP': 9, 'TN': 0, 'FN': 6, 'tp_dice_scores_sum': 0}\n",
      "{'TP': 4, 'FP': 11, 'TN': 3, 'FN': 4, 'tp_dice_scores_sum': 3.2062842047607614}\n",
      "{'TP': 0, 'FP': 5, 'TN': 30, 'FN': 5, 'tp_dice_scores_sum': 0}\n",
      "Average Dice scores:\n",
      "{'1': 0, '2': 0.8015710511901903, '3': 0}\n",
      "{'TP': 0, 'FP': 9, 'TN': 0, 'FN': 6, 'tp_dice_scores_sum': 0}\n",
      "{'TP': 3, 'FP': 11, 'TN': 3, 'FN': 4, 'tp_dice_scores_sum': 2.4366761708189144}\n",
      "{'TP': 0, 'FP': 5, 'TN': 30, 'FN': 5, 'tp_dice_scores_sum': 0}\n",
      "Average Dice scores:\n",
      "{'1': 0, '2': 0.8122253902729715, '3': 0}\n",
      "{'TP': 0, 'FP': 9, 'TN': 0, 'FN': 6, 'tp_dice_scores_sum': 0}\n",
      "{'TP': 2, 'FP': 11, 'TN': 3, 'FN': 4, 'tp_dice_scores_sum': 1.6385370416483103}\n",
      "{'TP': 0, 'FP': 5, 'TN': 30, 'FN': 5, 'tp_dice_scores_sum': 0}\n",
      "Average Dice scores:\n",
      "{'1': 0, '2': 0.8192685208241551, '3': 0}\n",
      "{'TP': 0, 'FP': 9, 'TN': 0, 'FN': 6, 'tp_dice_scores_sum': 0}\n",
      "{'TP': 0, 'FP': 11, 'TN': 3, 'FN': 4, 'tp_dice_scores_sum': 0}\n",
      "{'TP': 0, 'FP': 5, 'TN': 30, 'FN': 5, 'tp_dice_scores_sum': 0}\n",
      "Average Dice scores:\n",
      "{'1': 0, '2': 0, '3': 0}\n",
      "{'TP': 0, 'FP': 9, 'TN': 0, 'FN': 6, 'tp_dice_scores_sum': 0}\n",
      "{'TP': 0, 'FP': 11, 'TN': 3, 'FN': 4, 'tp_dice_scores_sum': 0}\n",
      "{'TP': 0, 'FP': 5, 'TN': 30, 'FN': 5, 'tp_dice_scores_sum': 0}\n",
      "Average Dice scores:\n",
      "{'1': 0, '2': 0, '3': 0}\n",
      "{'TP': 0, 'FP': 9, 'TN': 0, 'FN': 6, 'tp_dice_scores_sum': 0}\n",
      "{'TP': 0, 'FP': 11, 'TN': 3, 'FN': 4, 'tp_dice_scores_sum': 0}\n",
      "{'TP': 0, 'FP': 5, 'TN': 30, 'FN': 5, 'tp_dice_scores_sum': 0}\n",
      "Average Dice scores:\n",
      "{'1': 0, '2': 0, '3': 0}\n",
      "{'TP': 0, 'FP': 9, 'TN': 0, 'FN': 6, 'tp_dice_scores_sum': 0}\n",
      "{'TP': 0, 'FP': 11, 'TN': 3, 'FN': 4, 'tp_dice_scores_sum': 0}\n",
      "{'TP': 0, 'FP': 5, 'TN': 30, 'FN': 5, 'tp_dice_scores_sum': 0}\n",
      "Average Dice scores:\n",
      "{'1': 0, '2': 0, '3': 0}\n"
     ]
    }
   ],
   "source": [
    "gg3_f1_scores = []\n",
    "gg4_f1_scores = []\n",
    "cribriform_f1_scores = []\n",
    "\n",
    "for dice_threshold in dice_thresholds:\n",
    "    output_labels = output_statistics[\"mean\"].keys()\n",
    "\n",
    "    stats_dicts = {label:\n",
    "                    {\n",
    "                        \"TP\": 0,\n",
    "                        \"FP\": 0,\n",
    "                        \"TN\": 0,\n",
    "                        \"FN\": 0,\n",
    "                        # \"tp_iou_scores_sum\": 0 \n",
    "                        \"tp_dice_scores_sum\": 0 \n",
    "                    }\n",
    "                    for label in output_labels\n",
    "                }\n",
    "\n",
    "    # The evaluation of model output statistics\n",
    "    ###############\n",
    "    get_avg_dice_score = lambda stats_dicts: {label: stats_dicts[label][\"tp_dice_scores_sum\"]/stats_dicts[label][\"TP\"]  if stats_dicts[label][\"TP\"] != 0 else 0 for label in stats_dicts.keys()}\n",
    "\n",
    "    # For every patient\n",
    "    for case in output_statistics[\"metric_per_case\"]:\n",
    "        # For every pattern output within a patient\n",
    "        for pattern_num in case[\"metrics\"].keys():\n",
    "            metrics = case[\"metrics\"][pattern_num]\n",
    "\n",
    "            # True Negative\n",
    "            if metrics[\"n_ref\"] == 0 and metrics[\"n_pred\"] == 0:\n",
    "                stats_dicts[pattern_num][\"TN\"] += 1\n",
    "            # False Negative\n",
    "            if metrics[\"n_ref\"] > 0 and metrics[\"n_pred\"] == 0:\n",
    "                stats_dicts[pattern_num][\"FN\"] += 1\n",
    "            # False Positive\n",
    "            if metrics[\"n_ref\"] == 0 and metrics[\"n_pred\"] > 0:\n",
    "                stats_dicts[pattern_num][\"FP\"] += 1\n",
    "            # True Positive\n",
    "            # Only if overlap, otherwise false negative (missed a region)\n",
    "            if metrics[\"n_ref\"] > 0 and metrics[\"n_pred\"] > 0:\n",
    "                if metrics[\"Dice\"] >= dice_threshold:\n",
    "                    stats_dicts[pattern_num][\"TP\"] += 1\n",
    "                    stats_dicts[pattern_num][\"tp_dice_scores_sum\"] += metrics[\"Dice\"]\n",
    "                else:\n",
    "                    metrics[\"FN\"] += 1\n",
    "            \n",
    "\n",
    "    for pattern in stats_dicts.keys():\n",
    "        print(stats_dicts[pattern])\n",
    "\n",
    "    avg_dice_scores = get_avg_dice_score(stats_dicts)\n",
    "    print(f\"Average Dice scores:\\n{avg_dice_scores}\")\n",
    "\n",
    "    gg3_f1_scores.append(f1_score(stats_dicts[\"1\"]))\n",
    "    gg4_f1_scores.append(f1_score(stats_dicts[\"2\"]))\n",
    "    cribriform_f1_scores.append(f1_score(stats_dicts[\"3\"]))\n"
   ]
  },
  {
   "cell_type": "code",
   "execution_count": 69,
   "metadata": {},
   "outputs": [
    {
     "name": "stdout",
     "output_type": "stream",
     "text": [
      "[0.7169811320754716, 0.7169811320754716, 0.7169811320754716, 0.6938775510204082, 0.6666666666666666, 0.6666666666666666, 0.6666666666666666, 0.6153846153846154, 0.5714285714285714, 0.5714285714285714, 0.5714285714285714, 0.5454545454545454, 0.5454545454545454, 0.4827586206896552, 0.4827586206896552, 0.4444444444444444, 0.4444444444444444, 0.34782608695652173, 0.34782608695652173, 0.34782608695652173, 0.34782608695652173, 0.2857142857142857, 0.11764705882352941, 0.11764705882352941, 0.11764705882352941, 0.0, 0.0, 0.0, 0.0, 0.0, 0.0, 0.0, 0.0, 0.0, 0.0, 0.0]\n",
      "[0.7457627118644068, 0.7457627118644068, 0.7368421052631579, 0.7169811320754716, 0.7169811320754716, 0.7058823529411765, 0.6938775510204082, 0.6666666666666666, 0.6666666666666666, 0.6666666666666666, 0.6666666666666666, 0.6666666666666666, 0.6666666666666666, 0.6511627906976745, 0.6511627906976745, 0.6511627906976745, 0.6153846153846154, 0.5945945945945946, 0.5714285714285714, 0.5161290322580645, 0.5161290322580645, 0.5161290322580645, 0.5161290322580645, 0.4444444444444444, 0.4444444444444444, 0.4444444444444444, 0.4, 0.4, 0.4, 0.34782608695652173, 0.2857142857142857, 0.21052631578947367, 0.0, 0.0, 0.0, 0.0]\n",
      "[0.2857142857142857, 0.2857142857142857, 0.16666666666666666, 0.16666666666666666, 0.16666666666666666, 0.16666666666666666, 0.16666666666666666, 0.16666666666666666, 0.16666666666666666, 0.16666666666666666, 0.16666666666666666, 0.16666666666666666, 0.0, 0.0, 0.0, 0.0, 0.0, 0.0, 0.0, 0.0, 0.0, 0.0, 0.0, 0.0, 0.0, 0.0, 0.0, 0.0, 0.0, 0.0, 0.0, 0.0, 0.0, 0.0, 0.0, 0.0]\n"
     ]
    }
   ],
   "source": [
    "print(gg3_f1_scores)\n",
    "print(gg4_f1_scores)\n",
    "print(cribriform_f1_scores)"
   ]
  },
  {
   "cell_type": "code",
   "execution_count": 70,
   "metadata": {},
   "outputs": [],
   "source": [
    "sns.set_style('darkgrid')"
   ]
  },
  {
   "cell_type": "code",
   "execution_count": 89,
   "metadata": {},
   "outputs": [
    {
     "data": {
      "text/plain": [
       "Text(0.5, 1.0, 'All-modalities dataset F1-score for different TP-thresholds of Volumetric Dice score')"
      ]
     },
     "execution_count": 89,
     "metadata": {},
     "output_type": "execute_result"
    },
    {
     "data": {
      "image/png": "[encoded data removed]",
      "text/plain": [
       "<Figure size 800x600 with 1 Axes>"
      ]
     },
     "metadata": {},
     "output_type": "display_data"
    }
   ],
   "source": [
    "fig, axis = plt.subplots(figsize = (8, 6))\n",
    "\n",
    "sns.lineplot(x = dice_thresholds, y = gg3_f1_scores, ax = axis, label = \"GG3\")\n",
    "sns.lineplot(x = dice_thresholds, y = gg4_f1_scores, ax = axis, label = \"GG4\")\n",
    "sns.lineplot(x = dice_thresholds, y = cribriform_f1_scores, ax = axis, label = \"Cribriform\")\n",
    "# sns.lineplot(gg4_f1_scores)\n",
    "# sns.lineplot(cribriform_f1_scores)\n",
    "\n",
    "plt.axvline(0.1, color = \"red\", linestyle = \"dashed\", linewidth = 1, label = \"Dice == 0.1\")\n",
    "plt.legend()\n",
    "plt.xlabel(\"Dice threshold\")\n",
    "plt.ylabel(\"F1-score\")\n",
    "plt.title(f\"All-modalities dataset F1-score for different TP-thresholds of Volumetric Dice score\")\n"
   ]
  },
  {
   "cell_type": "code",
   "execution_count": null,
   "metadata": {},
   "outputs": [],
   "source": []
  }
 ],
 "metadata": {
  "kernelspec": {
   "display_name": "Python 3",
   "language": "python",
   "name": "python3"
  },
  "language_info": {
   "codemirror_mode": {
    "name": "ipython",
    "version": 3
   },
   "file_extension": ".py",
   "mimetype": "text/x-python",
   "name": "python",
   "nbconvert_exporter": "python",
   "pygments_lexer": "ipython3",
   "version": "3.10.12"
  }
 },
 "nbformat": 4,
 "nbformat_minor": 2
}
