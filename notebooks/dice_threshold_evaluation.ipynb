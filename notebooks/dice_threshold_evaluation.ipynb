{
 "cells": [
  {
   "cell_type": "code",
   "execution_count": 1,
   "metadata": {},
   "outputs": [],
   "source": [
    "import sys\n",
    "import os\n",
    "import json\n",
    "from tqdm import tqdm\n",
    "\n",
    "import numpy as np\n",
    "import pandas as pd\n",
    "import SimpleITK as sitk\n",
    "\n",
    "import matplotlib.pyplot as plt\n",
    "import seaborn as sns\n"
   ]
  },
  {
   "cell_type": "code",
   "execution_count": 2,
   "metadata": {},
   "outputs": [
    {
     "name": "stdout",
     "output_type": "stream",
     "text": [
      "0: Dataset001_pca\n",
      "1: Dataset005_pca\n",
      "2: Dataset005_pca_simplified\n",
      "3: Dataset006_pca_gg3gg4combined\n",
      "4: Dataset007_pca_cribriform_only\n",
      "5: Dataset008_pcaadc\n",
      "6: Dataset008_pcaadc_simplified\n",
      "7: Dataset009_pcaperf\n"
     ]
    }
   ],
   "source": [
    "# test_or_val = \"validation\"\n",
    "test_or_val = \"test\"\n",
    "\n",
    "datafolder = f\"../evaluation/contours_compare_{test_or_val}\"\n",
    "\n",
    "root, dirs, files = next(os.walk(f\"{datafolder}\"s))\n",
    "for i, dir in enumerate(dirs):\n",
    "    print(f\"{i}: {dir}\")\n",
    "\n"
   ]
  },
  {
   "cell_type": "code",
   "execution_count": 12,
   "metadata": {},
   "outputs": [
    {
     "name": "stdout",
     "output_type": "stream",
     "text": [
      "Dataset008_pcaadc\n",
      "./contours_compare_test/Dataset008_pcaadc\n"
     ]
    }
   ],
   "source": [
    "set_number = 5\n",
    "\n",
    "dataset = dirs[set_number]\n",
    "dataset_path = f\"{datafolder}/{dataset}\"\n",
    "print(dataset)\n",
    "print(dataset_path)"
   ]
  },
  {
   "cell_type": "code",
   "execution_count": 13,
   "metadata": {},
   "outputs": [],
   "source": [
    "# try:\n",
    "#     with open(f\"{dataset_path}/summary.json\") as f:\n",
    "#         output_statistics = json.load(f)\n",
    "# except:\n",
    "#     print(f\"{dataset} doesn't have a summary json. Aborting...\")"
   ]
  },
  {
   "cell_type": "markdown",
   "metadata": {},
   "source": [
    "### Defining a range of dice thresholds"
   ]
  },
  {
   "cell_type": "markdown",
   "metadata": {},
   "source": [
    "helper functions to calculate metrics of the case of a single dice threshold \\\n",
    "metric used is F1-score \n",
    "\n",
    "$\\frac{2tp}{2tp + fp + fn}$\n"
   ]
  },
  {
   "cell_type": "code",
   "execution_count": null,
   "metadata": {},
   "outputs": [],
   "source": []
  },
  {
   "cell_type": "code",
   "execution_count": 14,
   "metadata": {},
   "outputs": [],
   "source": [
    "def f1_score(dict_with_cm):\n",
    "    TP, FP, TN, FN = dict_with_cm[\"TP\"], dict_with_cm[\"FP\"], dict_with_cm[\"TN\"], dict_with_cm[\"FN\"]\n",
    "\n",
    "    score = 2 * TP / (2 * TP + FP + FN)\n",
    "    return score\n",
    "\n",
    "def sensitivity(dict_with_cm):\n",
    "    TP, FP, TN, FN = dict_with_cm[\"TP\"], dict_with_cm[\"FP\"], dict_with_cm[\"TN\"], dict_with_cm[\"FN\"]\n",
    "\n",
    "    score = TP / (TP + FN)\n",
    "    return score\n",
    "\n",
    "def specificity(dict_with_cm):\n",
    "    TP, FP, TN, FN = dict_with_cm[\"TP\"], dict_with_cm[\"FP\"], dict_with_cm[\"TN\"], dict_with_cm[\"FN\"]\n",
    "    print(FP, TN)\n",
    "    score = TN / (TN + FP)\n",
    "    return score\n",
    "\n",
    "# Determine dice score of segmentation wrt ground truth\n",
    "# regions to calculate dice score of are expected to be labeled with 1\n",
    "def dice(gt, seg):\n",
    "    label = 1\n",
    "    twice_the_intersection = np.sum(np.where(seg == label, 1, 0)[gt == label]) * 2.0\n",
    "    sum_of_volumes = np.sum(seg) + np.sum(gt)\n",
    "\n",
    "    return twice_the_intersection / sum_of_volumes\n"
   ]
  },
  {
   "cell_type": "code",
   "execution_count": 15,
   "metadata": {},
   "outputs": [
    {
     "name": "stdout",
     "output_type": "stream",
     "text": [
      "[0.025 0.05  0.075 0.1   0.125 0.15  0.175 0.2   0.225 0.25  0.275 0.3\n",
      " 0.325 0.35  0.375 0.4   0.425 0.45  0.475 0.5   0.525 0.55  0.575 0.6\n",
      " 0.625 0.65  0.675 0.7   0.725 0.75  0.775 0.8   0.825 0.85  0.875 0.9  ]\n"
     ]
    }
   ],
   "source": [
    "dice_thresholds = np.arange(0.025, 0.91, 0.025)\n",
    "print(dice_thresholds)"
   ]
  },
  {
   "cell_type": "code",
   "execution_count": null,
   "metadata": {},
   "outputs": [],
   "source": []
  },
  {
   "cell_type": "code",
   "execution_count": 16,
   "metadata": {},
   "outputs": [
    {
     "name": "stderr",
     "output_type": "stream",
     "text": [
      "  3%|▎         | 1/36 [00:09<05:37,  9.64s/it]"
     ]
    },
    {
     "name": "stdout",
     "output_type": "stream",
     "text": [
      "{1: {'TP': 39, 'FP': 7, 'TN': 0, 'FN': 7}, 2: {'TP': 30, 'FP': 8, 'TN': 2, 'FN': 13}, 3: {'TP': 2, 'FP': 14, 'TN': 25, 'FN': 12}, 4: {'TP': 51, 'FP': 0, 'TN': 0, 'FN': 2}}\n",
      "1 : 0.8478260869565217\n",
      "2 : 0.7407407407407407\n",
      "3 : 0.13333333333333333\n",
      "4 : 0.9807692307692307\n"
     ]
    },
    {
     "name": "stderr",
     "output_type": "stream",
     "text": [
      "  6%|▌         | 2/36 [00:18<05:20,  9.44s/it]"
     ]
    },
    {
     "name": "stdout",
     "output_type": "stream",
     "text": [
      "{1: {'TP': 38, 'FP': 7, 'TN': 0, 'FN': 8}, 2: {'TP': 27, 'FP': 8, 'TN': 2, 'FN': 16}, 3: {'TP': 2, 'FP': 14, 'TN': 25, 'FN': 12}, 4: {'TP': 51, 'FP': 0, 'TN': 0, 'FN': 2}}\n",
      "1 : 0.8351648351648352\n",
      "2 : 0.6923076923076923\n",
      "3 : 0.13333333333333333\n",
      "4 : 0.9807692307692307\n"
     ]
    },
    {
     "name": "stderr",
     "output_type": "stream",
     "text": [
      "  8%|▊         | 3/36 [00:28<05:08,  9.34s/it]"
     ]
    },
    {
     "name": "stdout",
     "output_type": "stream",
     "text": [
      "{1: {'TP': 36, 'FP': 7, 'TN': 0, 'FN': 10}, 2: {'TP': 26, 'FP': 8, 'TN': 2, 'FN': 17}, 3: {'TP': 1, 'FP': 14, 'TN': 25, 'FN': 13}, 4: {'TP': 50, 'FP': 0, 'TN': 0, 'FN': 3}}\n",
      "1 : 0.8089887640449438\n",
      "2 : 0.6753246753246753\n",
      "3 : 0.06896551724137931\n",
      "4 : 0.970873786407767\n"
     ]
    },
    {
     "name": "stderr",
     "output_type": "stream",
     "text": [
      " 11%|█         | 4/36 [00:37<04:58,  9.32s/it]"
     ]
    },
    {
     "name": "stdout",
     "output_type": "stream",
     "text": [
      "{1: {'TP': 32, 'FP': 7, 'TN': 0, 'FN': 14}, 2: {'TP': 24, 'FP': 8, 'TN': 2, 'FN': 19}, 3: {'TP': 1, 'FP': 14, 'TN': 25, 'FN': 13}, 4: {'TP': 50, 'FP': 0, 'TN': 0, 'FN': 3}}\n",
      "1 : 0.7529411764705882\n",
      "2 : 0.64\n",
      "3 : 0.06896551724137931\n",
      "4 : 0.970873786407767\n"
     ]
    },
    {
     "name": "stderr",
     "output_type": "stream",
     "text": [
      " 14%|█▍        | 5/36 [00:46<04:46,  9.23s/it]"
     ]
    },
    {
     "name": "stdout",
     "output_type": "stream",
     "text": [
      "{1: {'TP': 29, 'FP': 7, 'TN': 0, 'FN': 17}, 2: {'TP': 22, 'FP': 8, 'TN': 2, 'FN': 21}, 3: {'TP': 1, 'FP': 14, 'TN': 25, 'FN': 13}, 4: {'TP': 49, 'FP': 0, 'TN': 0, 'FN': 4}}\n",
      "1 : 0.7073170731707317\n",
      "2 : 0.6027397260273972\n",
      "3 : 0.06896551724137931\n",
      "4 : 0.9607843137254902\n"
     ]
    },
    {
     "name": "stderr",
     "output_type": "stream",
     "text": [
      " 17%|█▋        | 6/36 [00:55<04:37,  9.26s/it]"
     ]
    },
    {
     "name": "stdout",
     "output_type": "stream",
     "text": [
      "{1: {'TP': 26, 'FP': 7, 'TN': 0, 'FN': 20}, 2: {'TP': 21, 'FP': 8, 'TN': 2, 'FN': 22}, 3: {'TP': 1, 'FP': 14, 'TN': 25, 'FN': 13}, 4: {'TP': 48, 'FP': 0, 'TN': 0, 'FN': 5}}\n",
      "1 : 0.6582278481012658\n",
      "2 : 0.5833333333333334\n",
      "3 : 0.06896551724137931\n",
      "4 : 0.9504950495049505\n"
     ]
    },
    {
     "name": "stderr",
     "output_type": "stream",
     "text": [
      " 19%|█▉        | 7/36 [01:05<04:30,  9.32s/it]"
     ]
    },
    {
     "name": "stdout",
     "output_type": "stream",
     "text": [
      "{1: {'TP': 23, 'FP': 7, 'TN': 0, 'FN': 23}, 2: {'TP': 20, 'FP': 8, 'TN': 2, 'FN': 23}, 3: {'TP': 1, 'FP': 14, 'TN': 25, 'FN': 13}, 4: {'TP': 48, 'FP': 0, 'TN': 0, 'FN': 5}}\n",
      "1 : 0.6052631578947368\n",
      "2 : 0.5633802816901409\n",
      "3 : 0.06896551724137931\n",
      "4 : 0.9504950495049505\n"
     ]
    },
    {
     "name": "stderr",
     "output_type": "stream",
     "text": [
      " 22%|██▏       | 8/36 [01:14<04:22,  9.37s/it]"
     ]
    },
    {
     "name": "stdout",
     "output_type": "stream",
     "text": [
      "{1: {'TP': 23, 'FP': 7, 'TN': 0, 'FN': 23}, 2: {'TP': 19, 'FP': 8, 'TN': 2, 'FN': 24}, 3: {'TP': 0, 'FP': 14, 'TN': 25, 'FN': 14}, 4: {'TP': 48, 'FP': 0, 'TN': 0, 'FN': 5}}\n",
      "1 : 0.6052631578947368\n",
      "2 : 0.5428571428571428\n",
      "3 : 0.0\n",
      "4 : 0.9504950495049505\n"
     ]
    },
    {
     "name": "stderr",
     "output_type": "stream",
     "text": [
      " 25%|██▌       | 9/36 [01:23<04:11,  9.33s/it]"
     ]
    },
    {
     "name": "stdout",
     "output_type": "stream",
     "text": [
      "{1: {'TP': 23, 'FP': 7, 'TN': 0, 'FN': 23}, 2: {'TP': 18, 'FP': 8, 'TN': 2, 'FN': 25}, 3: {'TP': 0, 'FP': 14, 'TN': 25, 'FN': 14}, 4: {'TP': 47, 'FP': 0, 'TN': 0, 'FN': 6}}\n",
      "1 : 0.6052631578947368\n",
      "2 : 0.5217391304347826\n",
      "3 : 0.0\n",
      "4 : 0.94\n"
     ]
    },
    {
     "name": "stderr",
     "output_type": "stream",
     "text": [
      " 28%|██▊       | 10/36 [01:33<04:02,  9.32s/it]"
     ]
    },
    {
     "name": "stdout",
     "output_type": "stream",
     "text": [
      "{1: {'TP': 22, 'FP': 7, 'TN': 0, 'FN': 24}, 2: {'TP': 16, 'FP': 8, 'TN': 2, 'FN': 27}, 3: {'TP': 0, 'FP': 14, 'TN': 25, 'FN': 14}, 4: {'TP': 46, 'FP': 0, 'TN': 0, 'FN': 7}}\n",
      "1 : 0.5866666666666667\n",
      "2 : 0.47761194029850745\n",
      "3 : 0.0\n",
      "4 : 0.9292929292929293\n"
     ]
    },
    {
     "name": "stderr",
     "output_type": "stream",
     "text": [
      " 31%|███       | 11/36 [01:42<03:53,  9.35s/it]"
     ]
    },
    {
     "name": "stdout",
     "output_type": "stream",
     "text": [
      "{1: {'TP': 20, 'FP': 7, 'TN': 0, 'FN': 26}, 2: {'TP': 14, 'FP': 8, 'TN': 2, 'FN': 29}, 3: {'TP': 0, 'FP': 14, 'TN': 25, 'FN': 14}, 4: {'TP': 45, 'FP': 0, 'TN': 0, 'FN': 8}}\n",
      "1 : 0.547945205479452\n",
      "2 : 0.4307692307692308\n",
      "3 : 0.0\n",
      "4 : 0.9183673469387755\n"
     ]
    },
    {
     "name": "stderr",
     "output_type": "stream",
     "text": [
      " 33%|███▎      | 12/36 [01:51<03:43,  9.32s/it]"
     ]
    },
    {
     "name": "stdout",
     "output_type": "stream",
     "text": [
      "{1: {'TP': 20, 'FP': 7, 'TN': 0, 'FN': 26}, 2: {'TP': 13, 'FP': 8, 'TN': 2, 'FN': 30}, 3: {'TP': 0, 'FP': 14, 'TN': 25, 'FN': 14}, 4: {'TP': 43, 'FP': 0, 'TN': 0, 'FN': 10}}\n",
      "1 : 0.547945205479452\n",
      "2 : 0.40625\n",
      "3 : 0.0\n",
      "4 : 0.8958333333333334\n"
     ]
    },
    {
     "name": "stderr",
     "output_type": "stream",
     "text": [
      " 36%|███▌      | 13/36 [02:01<03:35,  9.37s/it]"
     ]
    },
    {
     "name": "stdout",
     "output_type": "stream",
     "text": [
      "{1: {'TP': 19, 'FP': 7, 'TN': 0, 'FN': 27}, 2: {'TP': 12, 'FP': 8, 'TN': 2, 'FN': 31}, 3: {'TP': 0, 'FP': 14, 'TN': 25, 'FN': 14}, 4: {'TP': 42, 'FP': 0, 'TN': 0, 'FN': 11}}\n",
      "1 : 0.5277777777777778\n",
      "2 : 0.38095238095238093\n",
      "3 : 0.0\n",
      "4 : 0.8842105263157894\n"
     ]
    },
    {
     "name": "stderr",
     "output_type": "stream",
     "text": [
      " 39%|███▉      | 14/36 [02:10<03:26,  9.37s/it]"
     ]
    },
    {
     "name": "stdout",
     "output_type": "stream",
     "text": [
      "{1: {'TP': 18, 'FP': 7, 'TN': 0, 'FN': 28}, 2: {'TP': 11, 'FP': 8, 'TN': 2, 'FN': 32}, 3: {'TP': 0, 'FP': 14, 'TN': 25, 'FN': 14}, 4: {'TP': 41, 'FP': 0, 'TN': 0, 'FN': 12}}\n",
      "1 : 0.5070422535211268\n",
      "2 : 0.3548387096774194\n",
      "3 : 0.0\n",
      "4 : 0.8723404255319149\n"
     ]
    },
    {
     "name": "stderr",
     "output_type": "stream",
     "text": [
      " 42%|████▏     | 15/36 [02:20<03:16,  9.35s/it]"
     ]
    },
    {
     "name": "stdout",
     "output_type": "stream",
     "text": [
      "{1: {'TP': 18, 'FP': 7, 'TN': 0, 'FN': 28}, 2: {'TP': 7, 'FP': 8, 'TN': 2, 'FN': 36}, 3: {'TP': 0, 'FP': 14, 'TN': 25, 'FN': 14}, 4: {'TP': 40, 'FP': 0, 'TN': 0, 'FN': 13}}\n",
      "1 : 0.5070422535211268\n",
      "2 : 0.2413793103448276\n",
      "3 : 0.0\n",
      "4 : 0.8602150537634409\n"
     ]
    },
    {
     "name": "stderr",
     "output_type": "stream",
     "text": [
      " 44%|████▍     | 16/36 [02:29<03:07,  9.35s/it]"
     ]
    },
    {
     "name": "stdout",
     "output_type": "stream",
     "text": [
      "{1: {'TP': 16, 'FP': 7, 'TN': 0, 'FN': 30}, 2: {'TP': 7, 'FP': 8, 'TN': 2, 'FN': 36}, 3: {'TP': 0, 'FP': 14, 'TN': 25, 'FN': 14}, 4: {'TP': 38, 'FP': 0, 'TN': 0, 'FN': 15}}\n",
      "1 : 0.463768115942029\n",
      "2 : 0.2413793103448276\n",
      "3 : 0.0\n",
      "4 : 0.8351648351648352\n"
     ]
    },
    {
     "name": "stderr",
     "output_type": "stream",
     "text": [
      " 47%|████▋     | 17/36 [02:38<02:57,  9.35s/it]"
     ]
    },
    {
     "name": "stdout",
     "output_type": "stream",
     "text": [
      "{1: {'TP': 13, 'FP': 7, 'TN': 0, 'FN': 33}, 2: {'TP': 6, 'FP': 8, 'TN': 2, 'FN': 37}, 3: {'TP': 0, 'FP': 14, 'TN': 25, 'FN': 14}, 4: {'TP': 37, 'FP': 0, 'TN': 0, 'FN': 16}}\n",
      "1 : 0.3939393939393939\n",
      "2 : 0.21052631578947367\n",
      "3 : 0.0\n",
      "4 : 0.8222222222222222\n"
     ]
    },
    {
     "name": "stderr",
     "output_type": "stream",
     "text": [
      " 50%|█████     | 18/36 [02:47<02:46,  9.27s/it]"
     ]
    },
    {
     "name": "stdout",
     "output_type": "stream",
     "text": [
      "{1: {'TP': 10, 'FP': 7, 'TN': 0, 'FN': 36}, 2: {'TP': 6, 'FP': 8, 'TN': 2, 'FN': 37}, 3: {'TP': 0, 'FP': 14, 'TN': 25, 'FN': 14}, 4: {'TP': 36, 'FP': 0, 'TN': 0, 'FN': 17}}\n",
      "1 : 0.31746031746031744\n",
      "2 : 0.21052631578947367\n",
      "3 : 0.0\n",
      "4 : 0.8089887640449438\n"
     ]
    },
    {
     "name": "stderr",
     "output_type": "stream",
     "text": [
      " 53%|█████▎    | 19/36 [02:57<02:37,  9.28s/it]"
     ]
    },
    {
     "name": "stdout",
     "output_type": "stream",
     "text": [
      "{1: {'TP': 8, 'FP': 7, 'TN': 0, 'FN': 38}, 2: {'TP': 5, 'FP': 8, 'TN': 2, 'FN': 38}, 3: {'TP': 0, 'FP': 14, 'TN': 25, 'FN': 14}, 4: {'TP': 35, 'FP': 0, 'TN': 0, 'FN': 18}}\n",
      "1 : 0.26229508196721313\n",
      "2 : 0.17857142857142858\n",
      "3 : 0.0\n",
      "4 : 0.7954545454545454\n"
     ]
    },
    {
     "name": "stderr",
     "output_type": "stream",
     "text": [
      " 56%|█████▌    | 20/36 [03:06<02:29,  9.31s/it]"
     ]
    },
    {
     "name": "stdout",
     "output_type": "stream",
     "text": [
      "{1: {'TP': 7, 'FP': 7, 'TN': 0, 'FN': 39}, 2: {'TP': 5, 'FP': 8, 'TN': 2, 'FN': 38}, 3: {'TP': 0, 'FP': 14, 'TN': 25, 'FN': 14}, 4: {'TP': 30, 'FP': 0, 'TN': 0, 'FN': 23}}\n",
      "1 : 0.23333333333333334\n",
      "2 : 0.17857142857142858\n",
      "3 : 0.0\n",
      "4 : 0.7228915662650602\n"
     ]
    },
    {
     "name": "stderr",
     "output_type": "stream",
     "text": [
      " 58%|█████▊    | 21/36 [03:15<02:19,  9.31s/it]"
     ]
    },
    {
     "name": "stdout",
     "output_type": "stream",
     "text": [
      "{1: {'TP': 7, 'FP': 7, 'TN': 0, 'FN': 39}, 2: {'TP': 4, 'FP': 8, 'TN': 2, 'FN': 39}, 3: {'TP': 0, 'FP': 14, 'TN': 25, 'FN': 14}, 4: {'TP': 28, 'FP': 0, 'TN': 0, 'FN': 25}}\n",
      "1 : 0.23333333333333334\n",
      "2 : 0.14545454545454545\n",
      "3 : 0.0\n",
      "4 : 0.691358024691358\n"
     ]
    },
    {
     "name": "stderr",
     "output_type": "stream",
     "text": [
      " 61%|██████    | 22/36 [03:25<02:10,  9.30s/it]"
     ]
    },
    {
     "name": "stdout",
     "output_type": "stream",
     "text": [
      "{1: {'TP': 7, 'FP': 7, 'TN': 0, 'FN': 39}, 2: {'TP': 3, 'FP': 8, 'TN': 2, 'FN': 40}, 3: {'TP': 0, 'FP': 14, 'TN': 25, 'FN': 14}, 4: {'TP': 27, 'FP': 0, 'TN': 0, 'FN': 26}}\n",
      "1 : 0.23333333333333334\n",
      "2 : 0.1111111111111111\n",
      "3 : 0.0\n",
      "4 : 0.675\n"
     ]
    },
    {
     "name": "stderr",
     "output_type": "stream",
     "text": [
      " 64%|██████▍   | 23/36 [03:34<02:00,  9.30s/it]"
     ]
    },
    {
     "name": "stdout",
     "output_type": "stream",
     "text": [
      "{1: {'TP': 6, 'FP': 7, 'TN': 0, 'FN': 40}, 2: {'TP': 3, 'FP': 8, 'TN': 2, 'FN': 40}, 3: {'TP': 0, 'FP': 14, 'TN': 25, 'FN': 14}, 4: {'TP': 27, 'FP': 0, 'TN': 0, 'FN': 26}}\n",
      "1 : 0.2033898305084746\n",
      "2 : 0.1111111111111111\n",
      "3 : 0.0\n",
      "4 : 0.675\n"
     ]
    },
    {
     "name": "stderr",
     "output_type": "stream",
     "text": [
      " 67%|██████▋   | 24/36 [03:43<01:51,  9.30s/it]"
     ]
    },
    {
     "name": "stdout",
     "output_type": "stream",
     "text": [
      "{1: {'TP': 5, 'FP': 7, 'TN': 0, 'FN': 41}, 2: {'TP': 3, 'FP': 8, 'TN': 2, 'FN': 40}, 3: {'TP': 0, 'FP': 14, 'TN': 25, 'FN': 14}, 4: {'TP': 22, 'FP': 0, 'TN': 0, 'FN': 31}}\n",
      "1 : 0.1724137931034483\n",
      "2 : 0.1111111111111111\n",
      "3 : 0.0\n",
      "4 : 0.5866666666666667\n"
     ]
    },
    {
     "name": "stderr",
     "output_type": "stream",
     "text": [
      " 69%|██████▉   | 25/36 [03:53<01:42,  9.29s/it]"
     ]
    },
    {
     "name": "stdout",
     "output_type": "stream",
     "text": [
      "{1: {'TP': 4, 'FP': 7, 'TN': 0, 'FN': 42}, 2: {'TP': 3, 'FP': 8, 'TN': 2, 'FN': 40}, 3: {'TP': 0, 'FP': 14, 'TN': 25, 'FN': 14}, 4: {'TP': 17, 'FP': 0, 'TN': 0, 'FN': 36}}\n",
      "1 : 0.14035087719298245\n",
      "2 : 0.1111111111111111\n",
      "3 : 0.0\n",
      "4 : 0.4857142857142857\n"
     ]
    },
    {
     "name": "stderr",
     "output_type": "stream",
     "text": [
      " 72%|███████▏  | 26/36 [04:02<01:33,  9.31s/it]"
     ]
    },
    {
     "name": "stdout",
     "output_type": "stream",
     "text": [
      "{1: {'TP': 4, 'FP': 7, 'TN': 0, 'FN': 42}, 2: {'TP': 2, 'FP': 8, 'TN': 2, 'FN': 41}, 3: {'TP': 0, 'FP': 14, 'TN': 25, 'FN': 14}, 4: {'TP': 15, 'FP': 0, 'TN': 0, 'FN': 38}}\n",
      "1 : 0.14035087719298245\n",
      "2 : 0.07547169811320754\n",
      "3 : 0.0\n",
      "4 : 0.4411764705882353\n"
     ]
    },
    {
     "name": "stderr",
     "output_type": "stream",
     "text": [
      " 75%|███████▌  | 27/36 [04:11<01:24,  9.39s/it]"
     ]
    },
    {
     "name": "stdout",
     "output_type": "stream",
     "text": [
      "{1: {'TP': 3, 'FP': 7, 'TN': 0, 'FN': 43}, 2: {'TP': 0, 'FP': 8, 'TN': 2, 'FN': 43}, 3: {'TP': 0, 'FP': 14, 'TN': 25, 'FN': 14}, 4: {'TP': 13, 'FP': 0, 'TN': 0, 'FN': 40}}\n",
      "1 : 0.10714285714285714\n",
      "2 : 0.0\n",
      "3 : 0.0\n",
      "4 : 0.3939393939393939\n"
     ]
    },
    {
     "name": "stderr",
     "output_type": "stream",
     "text": [
      " 78%|███████▊  | 28/36 [04:21<01:15,  9.46s/it]"
     ]
    },
    {
     "name": "stdout",
     "output_type": "stream",
     "text": [
      "{1: {'TP': 3, 'FP': 7, 'TN': 0, 'FN': 43}, 2: {'TP': 0, 'FP': 8, 'TN': 2, 'FN': 43}, 3: {'TP': 0, 'FP': 14, 'TN': 25, 'FN': 14}, 4: {'TP': 8, 'FP': 0, 'TN': 0, 'FN': 45}}\n",
      "1 : 0.10714285714285714\n",
      "2 : 0.0\n",
      "3 : 0.0\n",
      "4 : 0.26229508196721313\n"
     ]
    },
    {
     "name": "stderr",
     "output_type": "stream",
     "text": [
      " 81%|████████  | 29/36 [04:32<01:08,  9.79s/it]"
     ]
    },
    {
     "name": "stdout",
     "output_type": "stream",
     "text": [
      "{1: {'TP': 2, 'FP': 7, 'TN': 0, 'FN': 44}, 2: {'TP': 0, 'FP': 8, 'TN': 2, 'FN': 43}, 3: {'TP': 0, 'FP': 14, 'TN': 25, 'FN': 14}, 4: {'TP': 6, 'FP': 0, 'TN': 0, 'FN': 47}}\n",
      "1 : 0.07272727272727272\n",
      "2 : 0.0\n",
      "3 : 0.0\n",
      "4 : 0.2033898305084746\n"
     ]
    },
    {
     "name": "stderr",
     "output_type": "stream",
     "text": [
      " 83%|████████▎ | 30/36 [04:41<00:57,  9.64s/it]"
     ]
    },
    {
     "name": "stdout",
     "output_type": "stream",
     "text": [
      "{1: {'TP': 1, 'FP': 7, 'TN': 0, 'FN': 45}, 2: {'TP': 0, 'FP': 8, 'TN': 2, 'FN': 43}, 3: {'TP': 0, 'FP': 14, 'TN': 25, 'FN': 14}, 4: {'TP': 3, 'FP': 0, 'TN': 0, 'FN': 50}}\n",
      "1 : 0.037037037037037035\n",
      "2 : 0.0\n",
      "3 : 0.0\n",
      "4 : 0.10714285714285714\n"
     ]
    },
    {
     "name": "stderr",
     "output_type": "stream",
     "text": [
      " 86%|████████▌ | 31/36 [04:50<00:47,  9.50s/it]"
     ]
    },
    {
     "name": "stdout",
     "output_type": "stream",
     "text": [
      "{1: {'TP': 0, 'FP': 7, 'TN': 0, 'FN': 46}, 2: {'TP': 0, 'FP': 8, 'TN': 2, 'FN': 43}, 3: {'TP': 0, 'FP': 14, 'TN': 25, 'FN': 14}, 4: {'TP': 2, 'FP': 0, 'TN': 0, 'FN': 51}}\n",
      "1 : 0.0\n",
      "2 : 0.0\n",
      "3 : 0.0\n",
      "4 : 0.07272727272727272\n"
     ]
    },
    {
     "name": "stderr",
     "output_type": "stream",
     "text": [
      " 89%|████████▉ | 32/36 [05:00<00:37,  9.47s/it]"
     ]
    },
    {
     "name": "stdout",
     "output_type": "stream",
     "text": [
      "{1: {'TP': 0, 'FP': 7, 'TN': 0, 'FN': 46}, 2: {'TP': 0, 'FP': 8, 'TN': 2, 'FN': 43}, 3: {'TP': 0, 'FP': 14, 'TN': 25, 'FN': 14}, 4: {'TP': 0, 'FP': 0, 'TN': 0, 'FN': 53}}\n",
      "1 : 0.0\n",
      "2 : 0.0\n",
      "3 : 0.0\n",
      "4 : 0.0\n"
     ]
    },
    {
     "name": "stderr",
     "output_type": "stream",
     "text": [
      " 92%|█████████▏| 33/36 [05:09<00:28,  9.43s/it]"
     ]
    },
    {
     "name": "stdout",
     "output_type": "stream",
     "text": [
      "{1: {'TP': 0, 'FP': 7, 'TN': 0, 'FN': 46}, 2: {'TP': 0, 'FP': 8, 'TN': 2, 'FN': 43}, 3: {'TP': 0, 'FP': 14, 'TN': 25, 'FN': 14}, 4: {'TP': 0, 'FP': 0, 'TN': 0, 'FN': 53}}\n",
      "1 : 0.0\n",
      "2 : 0.0\n",
      "3 : 0.0\n",
      "4 : 0.0\n"
     ]
    },
    {
     "name": "stderr",
     "output_type": "stream",
     "text": [
      " 94%|█████████▍| 34/36 [05:18<00:18,  9.38s/it]"
     ]
    },
    {
     "name": "stdout",
     "output_type": "stream",
     "text": [
      "{1: {'TP': 0, 'FP': 7, 'TN': 0, 'FN': 46}, 2: {'TP': 0, 'FP': 8, 'TN': 2, 'FN': 43}, 3: {'TP': 0, 'FP': 14, 'TN': 25, 'FN': 14}, 4: {'TP': 0, 'FP': 0, 'TN': 0, 'FN': 53}}\n",
      "1 : 0.0\n",
      "2 : 0.0\n",
      "3 : 0.0\n",
      "4 : 0.0\n"
     ]
    },
    {
     "name": "stderr",
     "output_type": "stream",
     "text": [
      " 97%|█████████▋| 35/36 [05:27<00:09,  9.35s/it]"
     ]
    },
    {
     "name": "stdout",
     "output_type": "stream",
     "text": [
      "{1: {'TP': 0, 'FP': 7, 'TN': 0, 'FN': 46}, 2: {'TP': 0, 'FP': 8, 'TN': 2, 'FN': 43}, 3: {'TP': 0, 'FP': 14, 'TN': 25, 'FN': 14}, 4: {'TP': 0, 'FP': 0, 'TN': 0, 'FN': 53}}\n",
      "1 : 0.0\n",
      "2 : 0.0\n",
      "3 : 0.0\n",
      "4 : 0.0\n"
     ]
    },
    {
     "name": "stderr",
     "output_type": "stream",
     "text": [
      "100%|██████████| 36/36 [05:37<00:00,  9.36s/it]"
     ]
    },
    {
     "name": "stdout",
     "output_type": "stream",
     "text": [
      "{1: {'TP': 0, 'FP': 7, 'TN': 0, 'FN': 46}, 2: {'TP': 0, 'FP': 8, 'TN': 2, 'FN': 43}, 3: {'TP': 0, 'FP': 14, 'TN': 25, 'FN': 14}, 4: {'TP': 0, 'FP': 0, 'TN': 0, 'FN': 53}}\n",
      "1 : 0.0\n",
      "2 : 0.0\n",
      "3 : 0.0\n",
      "4 : 0.0\n"
     ]
    },
    {
     "name": "stderr",
     "output_type": "stream",
     "text": [
      "\n"
     ]
    }
   ],
   "source": [
    "gg3_f1_scores = []\n",
    "gg4_f1_scores = []\n",
    "cribriform_f1_scores = []\n",
    "foreground_f1_scores = []\n",
    "\n",
    "gg3_sensitivities = []\n",
    "gg4_sensitivities = []\n",
    "cribriform_sensitivities = []\n",
    "foreground_sensitivities = []\n",
    "\n",
    "path_to_gt = f\"{dataset_path}/ground_truth\"\n",
    "path_to_mp = f\"{dataset_path}/model_output\"\n",
    "\n",
    "\n",
    "# The evaluation of model output statistics\n",
    "###############\n",
    "# get_avg_dice_score = lambda stats_dicts: {label: stats_dicts[label][\"tp_dice_scores_sum\"]/stats_dicts[label][\"TP\"]  if stats_dicts[label][\"TP\"] != 0 else 0 for label in stats_dicts.keys()}\n",
    "\n",
    "i = 0\n",
    "\n",
    "# for dice_threshold in tqdm(dice_thresholds[0:1]):\n",
    "for dice_threshold in tqdm(dice_thresholds):\n",
    "    stats_dicts = {label:\n",
    "                    {\n",
    "                        \"TP\": 0,\n",
    "                        \"FP\": 0,\n",
    "                        \"TN\": 0,\n",
    "                        \"FN\": 0,\n",
    "                    }\n",
    "                    for label in [1, 2, 3, 4]\n",
    "                }\n",
    "\n",
    "    for i, patient_filename in enumerate(os.listdir(path_to_gt)):        \n",
    "        gt_array = sitk.GetArrayFromImage(sitk.ReadImage(f\"{path_to_gt}/{patient_filename}\"))\n",
    "        mp_array = sitk.GetArrayFromImage(sitk.ReadImage(f\"{path_to_mp}/{patient_filename}\"))\n",
    "\n",
    "        # For every label except background, consider only regions of that label and decide\n",
    "        # on confusion metric and/or dice score for those regions\n",
    "        for label in [1, 2, 3]:\n",
    "            label_only_gt = np.where(gt_array == int(label), 1, 0)\n",
    "            label_only_seg = np.where(mp_array == int(label), 1, 0)\n",
    "\n",
    "            if np.all(label_only_gt == 0) and np.all(label_only_seg == 0):\n",
    "                stats_dicts[label][\"TN\"] += 1\n",
    "            elif np.all(label_only_gt == 0) and not np.all(label_only_seg == 0):\n",
    "                stats_dicts[label][\"FP\"] += 1\n",
    "            elif not np.all(label_only_gt == 0) and np.all(label_only_seg == 0):\n",
    "                stats_dicts[label][\"FN\"] += 1\n",
    "            else:\n",
    "                dice_score = dice(label_only_gt, label_only_seg)\n",
    "\n",
    "                if dice_score > dice_threshold:\n",
    "                    stats_dicts[label][\"TP\"] += 1\n",
    "                else:\n",
    "                    stats_dicts[label][\"FN\"] += 1\n",
    "\n",
    "        # Now do the same one more time, but without distinguishing between the different\n",
    "        # patterns, so only for foreground vs background.\n",
    "        simplified_gt_array = np.where(gt_array != 0, 1, 0)\n",
    "        simplified_mp_array = np.where(mp_array != 0, 1, 0)\n",
    "\n",
    "        if np.all(simplified_gt_array == 0) and np.all(simplified_mp_array == 0):\n",
    "            stats_dicts[4][\"TN\"]\n",
    "        elif np.all(simplified_gt_array == 0) and not np.all(simplified_mp_array == 0):\n",
    "            stats_dicts[4][\"FP\"]\n",
    "        elif not np.all(simplified_gt_array == 0) and np.all(simplified_mp_array == 0):\n",
    "            stats_dicts[4][\"FN\"]\n",
    "        else:\n",
    "            dice_score = dice(simplified_gt_array, simplified_mp_array)\n",
    "\n",
    "            if dice_score > dice_threshold:\n",
    "                stats_dicts[4][\"TP\"] += 1\n",
    "            else:\n",
    "                stats_dicts[4][\"FN\"] += 1\n",
    "\n",
    "    print(stats_dicts)\n",
    "    # Saving this resulting f1_scores\n",
    "    for label in stats_dicts.keys():\n",
    "        print(f\"{label} : {f1_score(stats_dicts[label])}\")\n",
    "\n",
    "        if label == 1:\n",
    "            gg3_f1_scores.append(f1_score(stats_dicts[label]))\n",
    "        elif label == 2:\n",
    "            gg4_f1_scores.append(f1_score(stats_dicts[label]))\n",
    "        elif label == 3:\n",
    "            cribriform_f1_scores.append(f1_score(stats_dicts[label]))\n",
    "        elif label == 4:\n",
    "            foreground_f1_scores.append(f1_score(stats_dicts[label]))\n",
    "\n",
    "        if label == 1:\n",
    "            gg3_sensitivities.append(sensitivity(stats_dicts[label]))\n",
    "        elif label == 2:\n",
    "            gg4_sensitivities.append(sensitivity(stats_dicts[label]))\n",
    "        elif label == 3:\n",
    "            cribriform_sensitivities.append(sensitivity(stats_dicts[label]))\n",
    "        elif label == 4:\n",
    "            foreground_sensitivities.append(sensitivity(stats_dicts[label]))\n",
    "\n"
   ]
  },
  {
   "cell_type": "markdown",
   "metadata": {},
   "source": [
    "### Saving outputs to file"
   ]
  },
  {
   "cell_type": "code",
   "execution_count": 17,
   "metadata": {},
   "outputs": [],
   "source": [
    "# dataset_sensitivities"
   ]
  },
  {
   "cell_type": "code",
   "execution_count": 20,
   "metadata": {},
   "outputs": [],
   "source": [
    "dataset_f1scores = {\n",
    "    \"dice_thresholds\": [round(threshold, 4) for threshold in dice_thresholds],\n",
    "    \"GG3\": gg3_f1_scores,\n",
    "    \"GG4\": gg4_f1_scores,\n",
    "    \"Cribriform\": cribriform_f1_scores,\n",
    "    \"Foreground\": foreground_f1_scores\n",
    "}\n",
    "\n",
    "with open(f\"{dataset_path}/{dataset}_f1scores.json\", 'w', encoding = 'utf-8') as f:\n",
    "    json.dump(dataset_f1scores, f, ensure_ascii = False, indent = 4)"
   ]
  },
  {
   "cell_type": "code",
   "execution_count": 21,
   "metadata": {},
   "outputs": [],
   "source": [
    "dataset_sensitivities = {\n",
    "    \"dice_thresholds\": [round(threshold, 4) for threshold in dice_thresholds],\n",
    "    \"GG3\": gg3_sensitivities,\n",
    "    \"GG4\": gg4_sensitivities,\n",
    "    \"Cribriform\": cribriform_sensitivities,\n",
    "    \"Foreground\": foreground_sensitivities\n",
    "}\n",
    "\n",
    "with open(f\"{dataset_path}/{dataset}_sensitivities.json\", 'w', encoding = 'utf-8') as f:\n",
    "    json.dump(dataset_sensitivities, f, ensure_ascii = False, indent = 4)"
   ]
  },
  {
   "cell_type": "code",
   "execution_count": 27,
   "metadata": {},
   "outputs": [
    {
     "name": "stdout",
     "output_type": "stream",
     "text": [
      "./contours_compare_test\n"
     ]
    }
   ],
   "source": [
    "print(datafolder)\n",
    "# Save outputs in json files to save time\n",
    "\n",
    "all_modalities_data_path = f\"{datafolder}/Dataset005_pca\"\n",
    "t2adc_data_path = f\"{datafolder}/Dataset008_pcaadc\"\n",
    "\n",
    "with open(f\"{all_modalities_data_path}/Dataset005_pca_f1scores.json\", \"r\") as f:\n",
    "    allmodalities_f1scores = json.load(f)\n",
    "\n",
    "with open(f\"{all_modalities_data_path}/Dataset005_pca_sensitivities.json\", \"r\") as f:\n",
    "    allmodalities_sensitivities = json.load(f)\n",
    "\n",
    "with open(f\"{t2adc_data_path}/Dataset008_pcaadc_f1scores.json\", \"r\") as f:\n",
    "    t2adc_f1scores = json.load(f)\n",
    "\n",
    "with open(f\"{t2adc_data_path}/Dataset008_pcaadc_sensitivities.json\", \"r\") as f:\n",
    "    t2adc_sensitivities = json.load(f)"
   ]
  },
  {
   "cell_type": "code",
   "execution_count": 60,
   "metadata": {},
   "outputs": [
    {
     "name": "stdout",
     "output_type": "stream",
     "text": [
      "0.8351648351648352\n",
      "0.6133333333333333\n",
      "0.1\n",
      "0.9807692307692307\n",
      "\n",
      "0.8260869565217391\n",
      "0.5348837209302325\n",
      "0.07142857142857142\n",
      "0.9622641509433962\n",
      "\n",
      "0.7529411764705882\n",
      "0.64\n",
      "0.06896551724137931\n",
      "0.970873786407767\n",
      "\n",
      "0.6956521739130435\n",
      "0.5581395348837209\n",
      "0.07142857142857142\n",
      "0.9433962264150944\n",
      "\n"
     ]
    },
    {
     "data": {
      "text/plain": [
       "{'dice_thresholds': [0.025,\n",
       "  0.05,\n",
       "  0.075,\n",
       "  0.1,\n",
       "  0.125,\n",
       "  0.15,\n",
       "  0.175,\n",
       "  0.2,\n",
       "  0.225,\n",
       "  0.25,\n",
       "  0.275,\n",
       "  0.3,\n",
       "  0.325,\n",
       "  0.35,\n",
       "  0.375,\n",
       "  0.4,\n",
       "  0.425,\n",
       "  0.45,\n",
       "  0.475,\n",
       "  0.5,\n",
       "  0.525,\n",
       "  0.55,\n",
       "  0.575,\n",
       "  0.6,\n",
       "  0.625,\n",
       "  0.65,\n",
       "  0.675,\n",
       "  0.7,\n",
       "  0.725,\n",
       "  0.75,\n",
       "  0.775,\n",
       "  0.8,\n",
       "  0.825,\n",
       "  0.85,\n",
       "  0.875,\n",
       "  0.9],\n",
       " 'GG3': [0.8478260869565217,\n",
       "  0.8260869565217391,\n",
       "  0.782608695652174,\n",
       "  0.6956521739130435,\n",
       "  0.6304347826086957,\n",
       "  0.5652173913043478,\n",
       "  0.5,\n",
       "  0.5,\n",
       "  0.5,\n",
       "  0.4782608695652174,\n",
       "  0.43478260869565216,\n",
       "  0.43478260869565216,\n",
       "  0.41304347826086957,\n",
       "  0.391304347826087,\n",
       "  0.391304347826087,\n",
       "  0.34782608695652173,\n",
       "  0.2826086956521739,\n",
       "  0.21739130434782608,\n",
       "  0.17391304347826086,\n",
       "  0.15217391304347827,\n",
       "  0.15217391304347827,\n",
       "  0.15217391304347827,\n",
       "  0.13043478260869565,\n",
       "  0.10869565217391304,\n",
       "  0.08695652173913043,\n",
       "  0.08695652173913043,\n",
       "  0.06521739130434782,\n",
       "  0.06521739130434782,\n",
       "  0.043478260869565216,\n",
       "  0.021739130434782608,\n",
       "  0.0,\n",
       "  0.0,\n",
       "  0.0,\n",
       "  0.0,\n",
       "  0.0,\n",
       "  0.0],\n",
       " 'GG4': [0.6976744186046512,\n",
       "  0.627906976744186,\n",
       "  0.6046511627906976,\n",
       "  0.5581395348837209,\n",
       "  0.5116279069767442,\n",
       "  0.4883720930232558,\n",
       "  0.46511627906976744,\n",
       "  0.4418604651162791,\n",
       "  0.4186046511627907,\n",
       "  0.37209302325581395,\n",
       "  0.32558139534883723,\n",
       "  0.3023255813953488,\n",
       "  0.27906976744186046,\n",
       "  0.2558139534883721,\n",
       "  0.16279069767441862,\n",
       "  0.16279069767441862,\n",
       "  0.13953488372093023,\n",
       "  0.13953488372093023,\n",
       "  0.11627906976744186,\n",
       "  0.11627906976744186,\n",
       "  0.09302325581395349,\n",
       "  0.06976744186046512,\n",
       "  0.06976744186046512,\n",
       "  0.06976744186046512,\n",
       "  0.06976744186046512,\n",
       "  0.046511627906976744,\n",
       "  0.0,\n",
       "  0.0,\n",
       "  0.0,\n",
       "  0.0,\n",
       "  0.0,\n",
       "  0.0,\n",
       "  0.0,\n",
       "  0.0,\n",
       "  0.0,\n",
       "  0.0],\n",
       " 'Cribriform': [0.14285714285714285,\n",
       "  0.14285714285714285,\n",
       "  0.07142857142857142,\n",
       "  0.07142857142857142,\n",
       "  0.07142857142857142,\n",
       "  0.07142857142857142,\n",
       "  0.07142857142857142,\n",
       "  0.0,\n",
       "  0.0,\n",
       "  0.0,\n",
       "  0.0,\n",
       "  0.0,\n",
       "  0.0,\n",
       "  0.0,\n",
       "  0.0,\n",
       "  0.0,\n",
       "  0.0,\n",
       "  0.0,\n",
       "  0.0,\n",
       "  0.0,\n",
       "  0.0,\n",
       "  0.0,\n",
       "  0.0,\n",
       "  0.0,\n",
       "  0.0,\n",
       "  0.0,\n",
       "  0.0,\n",
       "  0.0,\n",
       "  0.0,\n",
       "  0.0,\n",
       "  0.0,\n",
       "  0.0,\n",
       "  0.0,\n",
       "  0.0,\n",
       "  0.0,\n",
       "  0.0],\n",
       " 'Foreground': [0.9622641509433962,\n",
       "  0.9622641509433962,\n",
       "  0.9433962264150944,\n",
       "  0.9433962264150944,\n",
       "  0.9245283018867925,\n",
       "  0.9056603773584906,\n",
       "  0.9056603773584906,\n",
       "  0.9056603773584906,\n",
       "  0.8867924528301887,\n",
       "  0.8679245283018868,\n",
       "  0.8490566037735849,\n",
       "  0.8113207547169812,\n",
       "  0.7924528301886793,\n",
       "  0.7735849056603774,\n",
       "  0.7547169811320755,\n",
       "  0.7169811320754716,\n",
       "  0.6981132075471698,\n",
       "  0.6792452830188679,\n",
       "  0.660377358490566,\n",
       "  0.5660377358490566,\n",
       "  0.5283018867924528,\n",
       "  0.5094339622641509,\n",
       "  0.5094339622641509,\n",
       "  0.41509433962264153,\n",
       "  0.32075471698113206,\n",
       "  0.2830188679245283,\n",
       "  0.24528301886792453,\n",
       "  0.1509433962264151,\n",
       "  0.11320754716981132,\n",
       "  0.05660377358490566,\n",
       "  0.03773584905660377,\n",
       "  0.0,\n",
       "  0.0,\n",
       "  0.0,\n",
       "  0.0,\n",
       "  0.0]}"
      ]
     },
     "execution_count": 60,
     "metadata": {},
     "output_type": "execute_result"
    }
   ],
   "source": [
    "usual_threshold = allmodalities_f1scores[\"dice_thresholds\"].index(0.1)\n",
    "\n",
    "print(allmodalities_f1scores[\"GG3\"][usual_threshold])\n",
    "print(allmodalities_f1scores[\"GG4\"][usual_threshold])\n",
    "print(allmodalities_f1scores[\"Cribriform\"][usual_threshold])\n",
    "print(allmodalities_f1scores[\"Foreground\"][usual_threshold])\n",
    "print()\n",
    "\n",
    "print(allmodalities_sensitivities[\"GG3\"][usual_threshold])\n",
    "print(allmodalities_sensitivities[\"GG4\"][usual_threshold])\n",
    "print(allmodalities_sensitivities[\"Cribriform\"][usual_threshold])\n",
    "print(allmodalities_sensitivities[\"Foreground\"][usual_threshold])\n",
    "print()\n",
    "\n",
    "print(t2adc_f1scores[\"GG3\"][usual_threshold])\n",
    "print(t2adc_f1scores[\"GG4\"][usual_threshold])\n",
    "print(t2adc_f1scores[\"Cribriform\"][usual_threshold])\n",
    "print(t2adc_f1scores[\"Foreground\"][usual_threshold])\n",
    "print()\n",
    "\n",
    "print(t2adc_sensitivities[\"GG3\"][usual_threshold])\n",
    "print(t2adc_sensitivities[\"GG4\"][usual_threshold])\n",
    "print(t2adc_sensitivities[\"Cribriform\"][usual_threshold])\n",
    "print(t2adc_sensitivities[\"Foreground\"][usual_threshold])\n",
    "print()\n",
    "\n",
    "allmodalities_sensitivities\n",
    "t2adc_f1scores\n",
    "t2adc_sensitivities"
   ]
  },
  {
   "cell_type": "code",
   "execution_count": 28,
   "metadata": {},
   "outputs": [],
   "source": [
    "sns.set_style('darkgrid')\n",
    "\n",
    "SMALL_SIZE = 8\n",
    "MEDIUM_SIZE = 12\n",
    "BIGGER_SIZE = 16\n",
    "\n",
    "plt.rc('font', size=12)          # controls default text sizes\n",
    "plt.rc('axes', titlesize=24)     # fontsize of the axes title\n",
    "plt.rc('axes', labelsize=14)    # fontsize of the x and y labels\n",
    "plt.rc('xtick', labelsize=12)    # fontsize of the tick labels\n",
    "plt.rc('ytick', labelsize=12)    # fontsize of the tick labels\n",
    "plt.rc('legend', fontsize=16)    # legend fontsize\n",
    "plt.rc('figure', titlesize=16)  # fontsize of the figure title"
   ]
  },
  {
   "cell_type": "code",
   "execution_count": 55,
   "metadata": {},
   "outputs": [
    {
     "data": {
      "text/plain": [
       "Text(0, 0.5, 'Sensitivity')"
      ]
     },
     "execution_count": 55,
     "metadata": {},
     "output_type": "execute_result"
    },
    {
     "data": {
      "image/png": "[encoded data removed]",
      "text/plain": [
       "<Figure size 1800x1000 with 4 Axes>"
      ]
     },
     "metadata": {},
     "output_type": "display_data"
    }
   ],
   "source": [
    "plt.rc('font', size=12)          # controls default text sizes\n",
    "plt.rc('axes', titlesize=18)     # fontsize of the axes title\n",
    "plt.rc('axes', labelsize=14)    # fontsize of the x and y labels\n",
    "plt.rc('xtick', labelsize=12)    # fontsize of the tick labels\n",
    "plt.rc('ytick', labelsize=12)    # fontsize of the tick labels\n",
    "plt.rc('legend', fontsize=12)    # legend fontsize\n",
    "plt.rc('figure', titlesize=24)  # fontsize of the figure title\n",
    "\n",
    "fig, axes = plt.subplots(2, 2, figsize = (18, 10))\n",
    "\n",
    "sns.lineplot(x = dice_thresholds, y = allmodalities_f1scores[\"GG3\"], ax = axes[0][0], label = \"GG3\")\n",
    "sns.lineplot(x = dice_thresholds, y = allmodalities_f1scores[\"GG4\"], ax = axes[0][0], label = \"GG4\")\n",
    "sns.lineplot(x = dice_thresholds, y = allmodalities_f1scores[\"Cribriform\"], ax = axes[0][0], label = \"Cribriform\")\n",
    "sns.lineplot(x = dice_thresholds, y = allmodalities_f1scores[\"Foreground\"], ax = axes[0][0], label = \"Foreground\")\n",
    "axes[0][0].axvline(0.1, color = \"red\", linestyle = \"dashed\", linewidth = 1, label = \"Dice == 0.1\")\n",
    "\n",
    "sns.lineplot(x = dice_thresholds, y = allmodalities_sensitivities[\"GG3\"], ax = axes[0][1], label = \"GG3\")\n",
    "sns.lineplot(x = dice_thresholds, y = allmodalities_sensitivities[\"GG4\"], ax = axes[0][1], label = \"GG4\")\n",
    "sns.lineplot(x = dice_thresholds, y = allmodalities_sensitivities[\"Cribriform\"], ax = axes[0][1], label = \"Cribriform\")\n",
    "sns.lineplot(x = dice_thresholds, y = allmodalities_sensitivities[\"Foreground\"], ax = axes[0][1], label = \"Foreground\")\n",
    "axes[0][1].axvline(0.1, color = \"red\", linestyle = \"dashed\", linewidth = 1, label = \"Dice == 0.1\")\n",
    "\n",
    "# T2 & ADC model\n",
    "sns.lineplot(x = dice_thresholds, y = t2adc_f1scores[\"GG3\"], ax = axes[1][0], label = \"GG3\")\n",
    "sns.lineplot(x = dice_thresholds, y = t2adc_f1scores[\"GG4\"], ax = axes[1][0], label = \"GG4\")\n",
    "sns.lineplot(x = dice_thresholds, y = t2adc_f1scores[\"Cribriform\"], ax = axes[1][0], label = \"Cribriform\")\n",
    "sns.lineplot(x = dice_thresholds, y = t2adc_f1scores[\"Foreground\"], ax = axes[1][0], label = \"Foreground\")\n",
    "axes[1][0].axvline(0.1, color = \"red\", linestyle = \"dashed\", linewidth = 1, label = \"Dice == 0.1\")\n",
    "\n",
    "sns.lineplot(x = dice_thresholds, y = t2adc_sensitivities[\"GG3\"], ax = axes[1][1], label = \"GG3\")\n",
    "sns.lineplot(x = dice_thresholds, y = t2adc_sensitivities[\"GG4\"], ax = axes[1][1], label = \"GG4\")\n",
    "sns.lineplot(x = dice_thresholds, y = t2adc_sensitivities[\"Cribriform\"], ax = axes[1][1], label = \"Cribriform\")\n",
    "sns.lineplot(x = dice_thresholds, y = t2adc_sensitivities[\"Foreground\"], ax = axes[1][1], label = \"Foreground\")\n",
    "axes[1][1].axvline(0.1, color = \"red\", linestyle = \"dashed\", linewidth = 1, label = \"Dice == 0.1\")\n",
    "\n",
    "axes[0][0].set_title(\"All-modalities F1 score\")\n",
    "axes[0][1].set_title(\"All-modalities Sensitivity\")\n",
    "axes[1][0].set_title(\"T2 & ADC F1 score\")\n",
    "axes[1][1].set_title(\"T2 & ADC Sensitivity\")\n",
    "\n",
    "axes[0][0].legend()\n",
    "# axes[0][0].set_xlabel(\"Dice threshold\")\n",
    "# axes[0][1].set_xlabel(\"Dice threshold\")\n",
    "axes[1][0].set_xlabel(\"Dice threshold\")\n",
    "axes[1][1].set_xlabel(\"Dice threshold\")\n",
    "axes[0][0].set_ylabel(\"F1-score\")\n",
    "axes[1][0].set_ylabel(\"F1-score\")\n",
    "axes[0][1].set_ylabel(\"Sensitivity\")\n",
    "axes[1][1].set_ylabel(\"Sensitivity\")\n",
    "\n",
    "\n",
    "# plt.suptitle(f\"Metrics for region detection\\n\")\n"
   ]
  },
  {
   "cell_type": "code",
   "execution_count": null,
   "metadata": {},
   "outputs": [],
   "source": [
    "# dice_thresholds.index(0.1)\n",
    "\n",
    "index_of_usual_threshold = np.where(dice_thresholds == 0.1)[0][0]\n",
    "\n",
    "print(gg3_f1_scores[index_of_usual_threshold])\n",
    "print(gg4_f1_scores[index_of_usual_threshold])\n",
    "print(cribriform_f1_scores[index_of_usual_threshold])"
   ]
  },
  {
   "cell_type": "code",
   "execution_count": null,
   "metadata": {},
   "outputs": [],
   "source": [
    "fig, axis = plt.subplots(figsize = (8, 6))\n",
    "\n",
    "sns.lineplot(x = dice_thresholds, y = gg3_sensitivity_scores, ax = axis, label = \"GG3 sensitivity\")\n",
    "sns.lineplot(x = dice_thresholds, y = gg4_sensitivity_scores, ax = axis, label = \"GG4 sensitivity\")\n",
    "sns.lineplot(x = dice_thresholds, y = cribriform_sensitivity_scores, ax = axis, label = \"Cribriform sensitivity\")\n",
    "\n",
    "sns.lineplot(x = dice_thresholds, y = gg3_specificity_scores, ax = axis, label = \"GG3 specificity\")\n",
    "sns.lineplot(x = dice_thresholds, y = gg4_specificity_scores, ax = axis, label = \"GG4 specificity\")\n",
    "sns.lineplot(x = dice_thresholds, y = cribriform_specificity_scores, ax = axis, label = \"Cribriform specificity\")\n",
    "\n",
    "plt.legend()\n",
    "plt.xlabel(\"Dice threshold\")\n",
    "plt.ylabel(\"Value of metric\")\n",
    "plt.title(f\"All-modalities dataset sensitivity and specificity for different TP-thresholds of Volumetric Dice score\")"
   ]
  },
  {
   "cell_type": "code",
   "execution_count": null,
   "metadata": {},
   "outputs": [],
   "source": []
  },
  {
   "cell_type": "code",
   "execution_count": null,
   "metadata": {},
   "outputs": [],
   "source": []
  },
  {
   "cell_type": "code",
   "execution_count": null,
   "metadata": {},
   "outputs": [],
   "source": [
    "\n",
    "\n",
    "\n"
   ]
  },
  {
   "cell_type": "code",
   "execution_count": null,
   "metadata": {},
   "outputs": [],
   "source": [
    "# print(len(os.listdir(path_to_simplified_gt)))\n",
    "# print(len(foreground_background_dices))\n",
    "# print(len(data))\n",
    "# data.loc[16]\n",
    "# # for dice in foreground_background_dices:\n",
    "# #     print(dice)"
   ]
  },
  {
   "cell_type": "code",
   "execution_count": null,
   "metadata": {},
   "outputs": [],
   "source": [
    "data[\"fgbg_dices\"] = foreground_background_dices[:42]\n",
    "data[['filename','structure', 'volumetric_dice', 'fgbg_dices']]\n"
   ]
  },
  {
   "cell_type": "code",
   "execution_count": null,
   "metadata": {},
   "outputs": [],
   "source": [
    "path_to_imgs = f\"../../exploratory-data-analysis\"\n",
    "all_modalities_fig = plt.imread(f\"{path_to_imgs}/region_detection_f1_scores_allmodalities.png\")\n",
    "t2adc_fig = plt.imread(f\"{path_to_imgs}/region_detection_f1_scores_t2_adc.png\")\n",
    "\n",
    "fig, axs = plt.subplots(1, 2, figsize = (16, 10))\n",
    "plt.xticks(None)\n",
    "axs[0].imshow(all_modalities_fig)\n",
    "axs[1].imshow(t2adc_fig)"
   ]
  }
 ],
 "metadata": {
  "kernelspec": {
   "display_name": "Python 3",
   "language": "python",
   "name": "python3"
  },
  "language_info": {
   "codemirror_mode": {
    "name": "ipython",
    "version": 3
   },
   "file_extension": ".py",
   "mimetype": "text/x-python",
   "name": "python",
   "nbconvert_exporter": "python",
   "pygments_lexer": "ipython3",
   "version": "3.10.12"
  }
 },
 "nbformat": 4,
 "nbformat_minor": 2
}
