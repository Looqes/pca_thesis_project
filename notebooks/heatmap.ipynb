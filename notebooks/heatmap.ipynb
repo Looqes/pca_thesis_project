{
 "cells": [
  {
   "cell_type": "markdown",
   "metadata": {},
   "source": [
    "# Delineation heatmap"
   ]
  },
  {
   "cell_type": "code",
   "execution_count": 1,
   "metadata": {},
   "outputs": [],
   "source": [
    "import numpy as np\n",
    "import SimpleITK as sitk\n",
    "import os\n",
    "\n",
    "\n",
    "import matplotlib.pyplot as plt\n",
    "%matplotlib inline\n",
    "import seaborn as sns\n",
    "\n",
    "import sys\n",
    "\"../scripts\" not in sys.path and sys.path.insert(0, '../scripts')\n",
    "import read_scans_utils\n",
    "import image_scaling"
   ]
  },
  {
   "cell_type": "code",
   "execution_count": 4,
   "metadata": {},
   "outputs": [],
   "source": [
    "PATH_TO_NIFTI_DELINEATIONS = \"../data/Regions ground truth/delineations_nifti\"\n",
    "PATH_TO_RESAMPLED_NIFTI_DELINEATIONS = \"../data/Regions ground truth/resampled_delineations_nifti\""
   ]
  },
  {
   "cell_type": "markdown",
   "metadata": {},
   "source": [
    "## First: resampling all delineations to be of the same resolution\n",
    "\n",
    "To condense all delineations into a heatmap they first need to be converted to the same resolution"
   ]
  },
  {
   "cell_type": "code",
   "execution_count": 3,
   "metadata": {},
   "outputs": [],
   "source": [
    "image_scaling.resample_delineations_to_same_resolution(\n",
    "    PATH_TO_NIFTI_DELINEATIONS,\n",
    "    f\"../data/Regions ground truth/resampled_delineations_nifti\"\n",
    ")"
   ]
  },
  {
   "cell_type": "code",
   "execution_count": 10,
   "metadata": {},
   "outputs": [
    {
     "name": "stdout",
     "output_type": "stream",
     "text": [
      "(30, 512, 512)\n",
      "(array([0., 1., 2.]), array([7853629,    9624,    1067]))\n",
      "---\n",
      "\n",
      "(40, 720, 720)\n",
      "(array([0., 1., 2., 3.]), array([20735303,      481,       97,      119]))\n",
      "---\n",
      "\n",
      "\n",
      "Resampled: \n",
      "(30, 512, 512)\n",
      "(array([0], dtype=uint8), array([7864320]))\n",
      "---\n",
      "\n"
     ]
    }
   ],
   "source": [
    "patient007 = sitk.ReadImage(f\"{PATH_TO_NIFTI_DELINEATIONS}/MARPROC007_combined_delineation.nii.gz\")\n",
    "patient007_array = sitk.GetArrayFromImage(patient007)\n",
    "print(patient007_array.shape)\n",
    "print(np.unique(patient007_array, return_counts = True))\n",
    "print(\"---\\n\")\n",
    "\n",
    "patient009 = sitk.ReadImage(f\"{PATH_TO_NIFTI_DELINEATIONS}/MARPROC009_combined_delineation.nii.gz\")\n",
    "patient009_array = sitk.GetArrayFromImage(patient009)\n",
    "print(patient009_array.shape)\n",
    "print(np.unique(patient009_array, return_counts = True))\n",
    "print(\"---\\n\")\n",
    "\n",
    "\n",
    "print(\"\\nResampled: \")\n",
    "patient009_resampled = sitk.ReadImage(f\"{PATH_TO_RESAMPLED_NIFTI_DELINEATIONS}/MARPROC009.nii.gz\")\n",
    "patient009_resampled_array = sitk.GetArrayFromImage(patient009_resampled)\n",
    "print(patient009_resampled_array.shape)\n",
    "print(np.unique(patient009_resampled_array, return_counts = True))\n",
    "print(\"---\\n\")\n"
   ]
  },
  {
   "cell_type": "code",
   "execution_count": null,
   "metadata": {},
   "outputs": [],
   "source": [
    "import nilearn.image as ni_im"
   ]
  },
  {
   "cell_type": "code",
   "execution_count": null,
   "metadata": {},
   "outputs": [],
   "source": [
    "original_t2 = first_patient.axialt2\n",
    "first_patient_delineation = first_patient.model_data[\"region_delineation\"]\n",
    "print(first_patient_delineation.shape)\n",
    "\n",
    "print(\"########\\n\")\n",
    "\n",
    "second_patient_delineation = second_patient.model_data[\"region_delineation\"]\n",
    "print(second_patient_delineation.shape)"
   ]
  },
  {
   "cell_type": "code",
   "execution_count": null,
   "metadata": {},
   "outputs": [],
   "source": [
    "print(np.unique(second_patient_delineation.get_fdata()[:, :, 0]))"
   ]
  },
  {
   "cell_type": "code",
   "execution_count": null,
   "metadata": {},
   "outputs": [],
   "source": [
    "np.set_printoptions(threshold=sys.maxsize)\n"
   ]
  },
  {
   "cell_type": "code",
   "execution_count": null,
   "metadata": {},
   "outputs": [],
   "source": [
    "for i, row in enumerate(second_patient_delineation.get_fdata()[:, :, 0]):\n",
    "    if 1 in row or 2 in row or 3 in row:\n",
    "        print(i)\n",
    "        print(row)\n",
    "        print()"
   ]
  },
  {
   "cell_type": "code",
   "execution_count": null,
   "metadata": {},
   "outputs": [],
   "source": [
    "resampled_image = ni_im.resample_to_img(second_patient_delineation, first_patient_delineation)\n",
    "print(resampled_image.shape)"
   ]
  },
  {
   "cell_type": "markdown",
   "metadata": {},
   "source": [
    "### Creating the density mappings"
   ]
  },
  {
   "cell_type": "code",
   "execution_count": null,
   "metadata": {},
   "outputs": [],
   "source": [
    "density_mapping_gg3 = np.zeros_like(first_patient.model_data[\"region_delineation\"].get_fdata())\n",
    "density_mapping_gg4 = np.zeros_like(first_patient.model_data[\"region_delineation\"].get_fdata())\n",
    "density_mapping_crib = np.zeros_like(first_patient.model_data[\"region_delineation\"].get_fdata())"
   ]
  },
  {
   "cell_type": "markdown",
   "metadata": {},
   "source": [
    "### Plotting"
   ]
  },
  {
   "cell_type": "code",
   "execution_count": null,
   "metadata": {},
   "outputs": [],
   "source": [
    "def transparent_cmap(cmap, N=255):\n",
    "    \"Copy colormap and set alpha values\"\n",
    "\n",
    "    mycmap = cmap\n",
    "    mycmap._init()\n",
    "    mycmap._lut[:,-1] = np.linspace(0, 0.8, N+4)\n",
    "    return mycmap"
   ]
  },
  {
   "cell_type": "code",
   "execution_count": null,
   "metadata": {},
   "outputs": [],
   "source": [
    "fig, ax = plt.subplots(1, 1)\n",
    "ax.imshow(original_t2.get_fdata()[:, :, 15])\n",
    "transparent_heatmap = transparent_cmap(plt.cm.Reds)\n",
    "\n",
    "w, h = original_t2.get_fdata()[:, :, 15].shape\n",
    "y, x = np.mgrid[0:h, 0:w]\n",
    "\n",
    "\n",
    "# cb = ax.contourf(x, y, first_patient_delineation, 5, cmap = transparent_heatmap)\n",
    "cb = ax.contourf(x, y, first_patient_delineation, 5, cmap = plt.cm.Reds)\n",
    "\n",
    "plt.colorbar(cb)\n",
    "plt.show()"
   ]
  },
  {
   "cell_type": "code",
   "execution_count": null,
   "metadata": {},
   "outputs": [],
   "source": []
  }
 ],
 "metadata": {
  "kernelspec": {
   "display_name": "Python 3",
   "language": "python",
   "name": "python3"
  },
  "language_info": {
   "codemirror_mode": {
    "name": "ipython",
    "version": 3
   },
   "file_extension": ".py",
   "mimetype": "text/x-python",
   "name": "python",
   "nbconvert_exporter": "python",
   "pygments_lexer": "ipython3",
   "version": "3.10.12"
  }
 },
 "nbformat": 4,
 "nbformat_minor": 2
}
